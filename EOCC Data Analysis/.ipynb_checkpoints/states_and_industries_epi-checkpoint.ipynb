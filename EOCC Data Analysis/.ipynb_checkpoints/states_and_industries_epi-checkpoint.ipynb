{
 "cells": [
  {
   "cell_type": "markdown",
   "metadata": {},
   "source": [
    "# States and Industry EPI Information"
   ]
  },
  {
   "cell_type": "markdown",
   "metadata": {},
   "source": [
    "## 1. Webscraping Information and Creating Dataframe"
   ]
  },
  {
   "cell_type": "markdown",
   "metadata": {},
   "source": [
    "All the states [copy directly]:\n",
    "1. California\n",
    "2. Washington\n",
    "3. Texas\n",
    "4. Illinois\n",
    "5. New York\n",
    "\n",
    "\n",
    "Industry numbers [copy directly]:\n",
    "1. 54 (Professional, Scientific, and Technical Services)\n",
    "2. 62 (Healthcare and Social Assistance)\n",
    "3. 52 (Finance and Insurance)\n",
    "\n",
    "Industry vectors: \n",
    "1. [\"Professional, Scientific, and Technical Services\", \"Professional, Scientific, and Technical Services (54)\"]\n",
    "2. [\"Health Care and Social Assistance\", \"Health Care and Social Assistance (62)\"]\n",
    "3. [\"Finance and Insurance\", \"Finance and Insurance (52)\"]"
   ]
  },
  {
   "cell_type": "code",
   "execution_count": 1,
   "metadata": {},
   "outputs": [],
   "source": [
    "# Hardcoded Inputs\n",
    "industry_num = 54\n",
    "industry_vector = [\"Professional, Scientific, and Technical Services\", \"Professional, Scientific, and Technical Services (54)\"]\n",
    "state = \"New York\"\n",
    "start_year = 2009\n",
    "end_year = 2018\n",
    "\n",
    "# not inputs, but impacted by inputs\n",
    "years = list(range(start_year,end_year + 1))\n",
    "industry_folder_name = \"States and Industries EPI/\" + industry_vector[0] + \"_\" + str(industry_num)\n",
    "state_folder_name = state\n",
    "path_name = industry_folder_name + \"/\" + state_folder_name"
   ]
  },
  {
   "cell_type": "code",
   "execution_count": 2,
   "metadata": {},
   "outputs": [],
   "source": [
    "import pandas as pd\n",
    "import requests\n",
    "from bs4 import BeautifulSoup\n",
    "import numpy as np\n",
    "import os\n",
    "import shutil"
   ]
  },
  {
   "cell_type": "code",
   "execution_count": 3,
   "metadata": {},
   "outputs": [
    {
     "name": "stdout",
     "output_type": "stream",
     "text": [
      "Directory already exists. Let's remove all the files.\n"
     ]
    }
   ],
   "source": [
    "if os.path.isdir(industry_folder_name):\n",
    "    os.chdir(industry_folder_name)\n",
    "    if os.path.isdir(state_folder_name):\n",
    "        shutil.rmtree(state_folder_name)\n",
    "    os.makedirs(state_folder_name)\n",
    "    os.chdir(state_folder_name)\n",
    "    print(\"Directory already exists. Let's remove all the files.\")\n",
    "else:\n",
    "    os.makedirs(path_name)\n",
    "    os.chdir(path_name)\n",
    "    print(\"Directory does not exist. We then make new directory.\")"
   ]
  },
  {
   "cell_type": "code",
   "execution_count": 4,
   "metadata": {},
   "outputs": [],
   "source": [
    "from selenium.common.exceptions import TimeoutException, NoSuchElementException\n",
    "from selenium import webdriver\n",
    "from selenium.webdriver.common.action_chains import ActionChains\n",
    "from selenium.webdriver.common.keys import Keys\n",
    "from selenium.webdriver.support.ui import Select"
   ]
  },
  {
   "cell_type": "code",
   "execution_count": 5,
   "metadata": {},
   "outputs": [
    {
     "name": "stderr",
     "output_type": "stream",
     "text": [
      "[WDM] - \n",
      "\n",
      "[WDM] - ====== WebDriver manager ======\n",
      "[WDM] - Current google-chrome version is 114.0.5735\n",
      "[WDM] - Get LATEST driver version for 114.0.5735\n",
      "[WDM] - Driver [/Users/christinehamakawa/.wdm/drivers/chromedriver/mac64/114.0.5735.90/chromedriver] found in cache\n"
     ]
    }
   ],
   "source": [
    "from selenium.webdriver.chrome.service import Service\n",
    "from webdriver_manager.chrome import ChromeDriverManager\n",
    "from selenium.webdriver.common.by import By\n",
    "s=Service(ChromeDriverManager().install())"
   ]
  },
  {
   "cell_type": "code",
   "execution_count": 6,
   "metadata": {},
   "outputs": [],
   "source": [
    "def webscrape_df(year, state, industry_vector):\n",
    "    if year <= 2012:\n",
    "        industry = industry_vector[0]\n",
    "    else:\n",
    "        industry = industry_vector[1]\n",
    "    driver = webdriver.Chrome(service=s)\n",
    "    base_url = 'https://www.eeoc.gov/statistics/employment/jobpatterns/eeo1/'\n",
    "    url = base_url + str(year)\n",
    "    driver.get(url)\n",
    "    element_dropdown = driver.find_element_by_id(\"edit-scope\")\n",
    "    select = Select(element_dropdown)\n",
    "    # SELECTS OVERARCHING SECTION \n",
    "    dir(select)\n",
    "    try:\n",
    "        select.select_by_visible_text(\"States, by NAICS-2\")\n",
    "        driver.find_element_by_xpath('//*[(@id = \"edit-submit\")]').click()\n",
    "    except NoSuchElementException:\n",
    "        print('The item does not exist')\n",
    "    \n",
    "    # SELECTS STATE\n",
    "    element_dropdown1 = driver.find_element_by_id(\"edit-state\")\n",
    "    select = Select(element_dropdown1)\n",
    "    try:\n",
    "        select.select_by_visible_text(state) # needs to click by name -- think I can figure that out\n",
    "        driver.find_element_by_xpath('//*[(@id = \"edit-submit\")]').click() # clicks on state\n",
    "    except NoSuchElementException:\n",
    "        print('The item does not exist')\n",
    "    \n",
    "    # NAICS (make into function)\n",
    "    element_dropdown2 = driver.find_element_by_id(\"edit-naics\")\n",
    "    select = Select(element_dropdown2)\n",
    "    try:\n",
    "        select.select_by_visible_text(industry)\n",
    "        driver.find_element_by_xpath('//*[(@id = \"edit-submit\")]').click() # clicks on industry\n",
    "    except NoSuchElementException:\n",
    "        print('The item does not exist')\n",
    "\n",
    "    # read html of page we navigated to\n",
    "    html = driver.page_source\n",
    "    driver.close() # we'll close the browser for now\n",
    "    soup = BeautifulSoup(html, \"html.parser\")\n",
    "    html_headers = soup.find_all(scope=\"col\")\n",
    "    headers = [html_headers[i].get_text() for i in range(len(html_headers))]\n",
    "\n",
    "    # read ethnic groups from html & format for dataframe\n",
    "    html_ethnic_groups = soup.find_all(scope=\"rowgroup\")\n",
    "    ethnic_groups = [html_ethnic_groups[i].get_text() for i in range(len(html_ethnic_groups))]\n",
    "    ethnic_groups = np.repeat(ethnic_groups, 2)\n",
    "    # read gender groups from html & format for dataframe\n",
    "    html_gender_groups = soup.find_all(scope=\"row\")\n",
    "    gender_groups = [html_gender_groups[i].get_text() for i in range(len(html_gender_groups))]\n",
    "\n",
    "    # getting the numbers for the datframe\n",
    "    html_data = soup.find_all(\"tr\")\n",
    "    data = [\"\"]*len(ethnic_groups)\n",
    "    count = 0\n",
    "    for i in range(len(html_data)):\n",
    "        temp_data = html_data[i].find_all(\"td\")\n",
    "        if len(temp_data) != 0:\n",
    "            temp_list = [temp_data[i].get_text().replace(\",\",\"\") for i in range(len(temp_data))]\n",
    "            for j in range(len(temp_list)):\n",
    "                if len(temp_list[j]) == 0:\n",
    "                    temp_list[j] = 0\n",
    "                else:\n",
    "                    temp_list[j] = int(temp_list[j])\n",
    "            data[count] = temp_list\n",
    "            count +=1\n",
    "        \n",
    "    # combining everything into a dataframe\n",
    "    final_df = pd.DataFrame(data, columns = headers[1:])\n",
    "    final_df.index = ethnic_groups\n",
    "    final_df.index.name = headers[0]\n",
    "    \n",
    "    final_df.index.name = \"Racial/Ethnic_Group\"\n",
    "\n",
    "    final_df[\"entry_workers\"] = final_df.iloc[:,3:11].sum(axis=1)\n",
    "    # only need executives, managers, professionals, entry workers\n",
    "    final_df = final_df.drop(\n",
    "        columns=['Technicians',\n",
    "           'Sales Workers', 'Office & Clerical Workers', 'Craft Workers',\n",
    "           'Operatives', 'Laborers', 'Service Workers'],\n",
    "        axis = 1,\n",
    "    )\n",
    "    final_df = final_df.fillna(0)\n",
    "    \n",
    "    # non gender separated df\n",
    "    ethnic_df = final_df.groupby('Racial/Ethnic_Group')\n",
    "    ethnic_df = ethnic_df.sum()\n",
    "    totals = list(ethnic_df.sum(axis = 0, skipna = True))\n",
    "    col_names = list(ethnic_df.columns)\n",
    "    for i in range(len(ethnic_df.columns)):\n",
    "        ethnic_df[col_names[i]] = ethnic_df[col_names[i]] / totals[i]\n",
    "    ethnic_df['EPI'] = ethnic_df['Executive/Senior Level Officials & Managers'] / ethnic_df['Professionals']\n",
    "    ethnic_df['Managers_to_Execs'] = ethnic_df['Executive/Senior Level Officials & Managers'] / ethnic_df['First/Mid Level Officials & Managers']\n",
    "    ethnic_df['Professionals_to_Managers'] = ethnic_df['First/Mid Level Officials & Managers'] / ethnic_df['Professionals']\n",
    "    ethnic_df['EPI_ew'] = ethnic_df['Executive/Senior Level Officials & Managers'] / ethnic_df['entry_workers']\n",
    "    ethnic_df['parity_diff'] = ethnic_df['EPI'] - 1\n",
    "    print(year)\n",
    "    return ethnic_df"
   ]
  },
  {
   "cell_type": "markdown",
   "metadata": {},
   "source": [
    "This runs the webscraping algorithm for each year. It may take a few minutes to run."
   ]
  },
  {
   "cell_type": "code",
   "execution_count": 7,
   "metadata": {},
   "outputs": [
    {
     "name": "stderr",
     "output_type": "stream",
     "text": [
      "<ipython-input-6-35801c6ee815>:10: DeprecationWarning: find_element_by_* commands are deprecated. Please use find_element() instead\n",
      "  element_dropdown = driver.find_element_by_id(\"edit-scope\")\n",
      "<ipython-input-6-35801c6ee815>:16: DeprecationWarning: find_element_by_* commands are deprecated. Please use find_element() instead\n",
      "  driver.find_element_by_xpath('//*[(@id = \"edit-submit\")]').click()\n",
      "<ipython-input-6-35801c6ee815>:21: DeprecationWarning: find_element_by_* commands are deprecated. Please use find_element() instead\n",
      "  element_dropdown1 = driver.find_element_by_id(\"edit-state\")\n",
      "<ipython-input-6-35801c6ee815>:25: DeprecationWarning: find_element_by_* commands are deprecated. Please use find_element() instead\n",
      "  driver.find_element_by_xpath('//*[(@id = \"edit-submit\")]').click() # clicks on state\n",
      "<ipython-input-6-35801c6ee815>:30: DeprecationWarning: find_element_by_* commands are deprecated. Please use find_element() instead\n",
      "  element_dropdown2 = driver.find_element_by_id(\"edit-naics\")\n",
      "<ipython-input-6-35801c6ee815>:34: DeprecationWarning: find_element_by_* commands are deprecated. Please use find_element() instead\n",
      "  driver.find_element_by_xpath('//*[(@id = \"edit-submit\")]').click() # clicks on industry\n"
     ]
    },
    {
     "name": "stdout",
     "output_type": "stream",
     "text": [
      "2009\n",
      "2010\n",
      "2011\n",
      "2012\n",
      "2013\n",
      "2014\n",
      "2015\n",
      "2016\n",
      "2017\n",
      "2018\n"
     ]
    }
   ],
   "source": [
    "# CREATING DATAFRAMES\n",
    "df_list =  [\"\"] * len(years)\n",
    "for i in range(len(years)):\n",
    "    df_list[i] = webscrape_df(years[i], state, industry_vector)"
   ]
  },
  {
   "cell_type": "code",
   "execution_count": 8,
   "metadata": {},
   "outputs": [
    {
     "data": {
      "text/html": [
       "<div>\n",
       "<style scoped>\n",
       "    .dataframe tbody tr th:only-of-type {\n",
       "        vertical-align: middle;\n",
       "    }\n",
       "\n",
       "    .dataframe tbody tr th {\n",
       "        vertical-align: top;\n",
       "    }\n",
       "\n",
       "    .dataframe thead th {\n",
       "        text-align: right;\n",
       "    }\n",
       "</style>\n",
       "<table border=\"1\" class=\"dataframe\">\n",
       "  <thead>\n",
       "    <tr style=\"text-align: right;\">\n",
       "      <th></th>\n",
       "      <th>Executive/Senior Level Officials &amp; Managers</th>\n",
       "      <th>First/Mid Level Officials &amp; Managers</th>\n",
       "      <th>Professionals</th>\n",
       "      <th>entry_workers</th>\n",
       "      <th>EPI</th>\n",
       "      <th>Managers_to_Execs</th>\n",
       "      <th>Professionals_to_Managers</th>\n",
       "      <th>EPI_ew</th>\n",
       "      <th>parity_diff</th>\n",
       "    </tr>\n",
       "    <tr>\n",
       "      <th>Racial/Ethnic_Group</th>\n",
       "      <th></th>\n",
       "      <th></th>\n",
       "      <th></th>\n",
       "      <th></th>\n",
       "      <th></th>\n",
       "      <th></th>\n",
       "      <th></th>\n",
       "      <th></th>\n",
       "      <th></th>\n",
       "    </tr>\n",
       "  </thead>\n",
       "  <tbody>\n",
       "    <tr>\n",
       "      <th>AMERICAN INDIAN</th>\n",
       "      <td>0.001611</td>\n",
       "      <td>0.002290</td>\n",
       "      <td>0.002682</td>\n",
       "      <td>0.003930</td>\n",
       "      <td>0.600732</td>\n",
       "      <td>0.703614</td>\n",
       "      <td>0.853781</td>\n",
       "      <td>0.409987</td>\n",
       "      <td>-0.399268</td>\n",
       "    </tr>\n",
       "    <tr>\n",
       "      <th>ASIAN</th>\n",
       "      <td>0.073649</td>\n",
       "      <td>0.108918</td>\n",
       "      <td>0.166124</td>\n",
       "      <td>0.078810</td>\n",
       "      <td>0.443338</td>\n",
       "      <td>0.676191</td>\n",
       "      <td>0.655640</td>\n",
       "      <td>0.934518</td>\n",
       "      <td>-0.556662</td>\n",
       "    </tr>\n",
       "    <tr>\n",
       "      <th>BLACK</th>\n",
       "      <td>0.024739</td>\n",
       "      <td>0.053791</td>\n",
       "      <td>0.063543</td>\n",
       "      <td>0.167098</td>\n",
       "      <td>0.389334</td>\n",
       "      <td>0.459916</td>\n",
       "      <td>0.846533</td>\n",
       "      <td>0.148053</td>\n",
       "      <td>-0.610666</td>\n",
       "    </tr>\n",
       "    <tr>\n",
       "      <th>HAWAIIAN</th>\n",
       "      <td>0.000948</td>\n",
       "      <td>0.001609</td>\n",
       "      <td>0.002981</td>\n",
       "      <td>0.002145</td>\n",
       "      <td>0.317927</td>\n",
       "      <td>0.589268</td>\n",
       "      <td>0.539529</td>\n",
       "      <td>0.441918</td>\n",
       "      <td>-0.682073</td>\n",
       "    </tr>\n",
       "    <tr>\n",
       "      <th>HISPANIC</th>\n",
       "      <td>0.027867</td>\n",
       "      <td>0.050874</td>\n",
       "      <td>0.058921</td>\n",
       "      <td>0.134925</td>\n",
       "      <td>0.472960</td>\n",
       "      <td>0.547773</td>\n",
       "      <td>0.863423</td>\n",
       "      <td>0.206540</td>\n",
       "      <td>-0.527040</td>\n",
       "    </tr>\n",
       "    <tr>\n",
       "      <th>TWO OR MORE RACES</th>\n",
       "      <td>0.003697</td>\n",
       "      <td>0.004826</td>\n",
       "      <td>0.007549</td>\n",
       "      <td>0.008987</td>\n",
       "      <td>0.489715</td>\n",
       "      <td>0.766049</td>\n",
       "      <td>0.639274</td>\n",
       "      <td>0.411337</td>\n",
       "      <td>-0.510285</td>\n",
       "    </tr>\n",
       "    <tr>\n",
       "      <th>WHITE</th>\n",
       "      <td>0.867488</td>\n",
       "      <td>0.777693</td>\n",
       "      <td>0.698199</td>\n",
       "      <td>0.604105</td>\n",
       "      <td>1.242465</td>\n",
       "      <td>1.115464</td>\n",
       "      <td>1.113855</td>\n",
       "      <td>1.435988</td>\n",
       "      <td>0.242465</td>\n",
       "    </tr>\n",
       "  </tbody>\n",
       "</table>\n",
       "</div>"
      ],
      "text/plain": [
       "                     Executive/Senior Level Officials & Managers  \\\n",
       "Racial/Ethnic_Group                                                \n",
       "AMERICAN INDIAN                                         0.001611   \n",
       "ASIAN                                                   0.073649   \n",
       "BLACK                                                   0.024739   \n",
       "HAWAIIAN                                                0.000948   \n",
       "HISPANIC                                                0.027867   \n",
       "TWO OR MORE RACES                                       0.003697   \n",
       "WHITE                                                   0.867488   \n",
       "\n",
       "                     First/Mid Level Officials & Managers  Professionals  \\\n",
       "Racial/Ethnic_Group                                                        \n",
       "AMERICAN INDIAN                                  0.002290       0.002682   \n",
       "ASIAN                                            0.108918       0.166124   \n",
       "BLACK                                            0.053791       0.063543   \n",
       "HAWAIIAN                                         0.001609       0.002981   \n",
       "HISPANIC                                         0.050874       0.058921   \n",
       "TWO OR MORE RACES                                0.004826       0.007549   \n",
       "WHITE                                            0.777693       0.698199   \n",
       "\n",
       "                     entry_workers       EPI  Managers_to_Execs  \\\n",
       "Racial/Ethnic_Group                                               \n",
       "AMERICAN INDIAN           0.003930  0.600732           0.703614   \n",
       "ASIAN                     0.078810  0.443338           0.676191   \n",
       "BLACK                     0.167098  0.389334           0.459916   \n",
       "HAWAIIAN                  0.002145  0.317927           0.589268   \n",
       "HISPANIC                  0.134925  0.472960           0.547773   \n",
       "TWO OR MORE RACES         0.008987  0.489715           0.766049   \n",
       "WHITE                     0.604105  1.242465           1.115464   \n",
       "\n",
       "                     Professionals_to_Managers    EPI_ew  parity_diff  \n",
       "Racial/Ethnic_Group                                                    \n",
       "AMERICAN INDIAN                       0.853781  0.409987    -0.399268  \n",
       "ASIAN                                 0.655640  0.934518    -0.556662  \n",
       "BLACK                                 0.846533  0.148053    -0.610666  \n",
       "HAWAIIAN                              0.539529  0.441918    -0.682073  \n",
       "HISPANIC                              0.863423  0.206540    -0.527040  \n",
       "TWO OR MORE RACES                     0.639274  0.411337    -0.510285  \n",
       "WHITE                                 1.113855  1.435988     0.242465  "
      ]
     },
     "execution_count": 8,
     "metadata": {},
     "output_type": "execute_result"
    }
   ],
   "source": [
    "# the dataframe for the first year (default: 2009)\n",
    "df_list[0]"
   ]
  },
  {
   "cell_type": "markdown",
   "metadata": {},
   "source": [
    "## 2. Organizing and Reformatting Dataframes"
   ]
  },
  {
   "cell_type": "markdown",
   "metadata": {},
   "source": [
    "The EPI is defined as a ratio of the percentage representation of a company’s Executive workforce relative to that company’s percentage representation of itsentry-level Professional workforce. We use this metric and other related metrics to create the dataframes below.\n",
    "\n",
    "**epi_df**: dataframe with all the different EPI by year and racial group\n",
    "\n",
    "**parity_diff_df**: ratio of each group is expected to be 1. Contains all values of EPI except we subtract by 1.\n",
    "\n",
    "**exec_df**: contains the proportion of executives to managers (% of executives from that group / % of manager from that group)\n",
    "\n",
    "**manager_df**: contains the proportion of executives to managers (% of managers from that group / % of professionals from that group)\n",
    "\n",
    "**epi_ew_df**: dataframe with al the different EPI by year and racial group; uses entry workers instead of just professionals (% of executives from that group / % of entry workers from that group)\n",
    "\n",
    "**entry_df**: % of entry workers by group"
   ]
  },
  {
   "cell_type": "code",
   "execution_count": 9,
   "metadata": {},
   "outputs": [],
   "source": [
    "# creating and.formatting dataframes\n",
    "year = years[0]\n",
    "\n",
    "epi_df = df_list[0]['EPI']\n",
    "epi_df = epi_df.rename(str(year))\n",
    "\n",
    "parity_diff_df = df_list[0]['parity_diff']\n",
    "parity_diff_df = parity_diff_df.rename(str(year))\n",
    "\n",
    "exec_df = df_list[0]['Managers_to_Execs']\n",
    "exec_df = exec_df.rename(str(year))\n",
    "\n",
    "managers_df =df_list[0]['Professionals_to_Managers']\n",
    "managers_df = managers_df.rename(str(year))\n",
    "\n",
    "epi_ew_df = df_list[0]['EPI_ew']\n",
    "epi_ew_df = epi_ew_df.rename(str(year))\n",
    "\n",
    "entry_df = df_list[0]['entry_workers']\n",
    "entry_df = entry_df.rename(str(year))\n",
    "\n",
    "for i in range(1,len(df_list)):\n",
    "    year+=1\n",
    "    temp1 = df_list[i]['parity_diff']\n",
    "    temp1 = temp1.rename(str(year))\n",
    "    parity_diff_df = pd.concat([parity_diff_df, temp1], axis = 1)\n",
    "    temp2 = df_list[i]['EPI']\n",
    "    temp2 = temp2.rename(str(year))\n",
    "    epi_df = pd.concat([epi_df, temp2], axis = 1)\n",
    "    temp3 = df_list[i]['Managers_to_Execs']\n",
    "    temp3 = temp3.rename(str(year))\n",
    "    exec_df = pd.concat([exec_df, temp3], axis = 1)\n",
    "    temp5 = df_list[i]['EPI_ew']\n",
    "    temp5 = temp5.rename(str(year))\n",
    "    epi_ew_df = pd.concat([epi_ew_df, temp5], axis = 1)\n",
    "    temp6 = df_list[i]['entry_workers']\n",
    "    temp6 = temp6.rename(str(year))\n",
    "    entry_df = pd.concat([entry_df, temp6], axis = 1)\n",
    "    temp7 = df_list[i]['Professionals_to_Managers']\n",
    "    temp7 = temp7.rename(str(year))\n",
    "    managers_df = pd.concat([managers_df, temp7], axis = 1)"
   ]
  },
  {
   "cell_type": "code",
   "execution_count": 10,
   "metadata": {},
   "outputs": [],
   "source": [
    "# more formatting dataframes and removing some info\n",
    "drop_indices = ['AMERICAN INDIAN', 'HAWAIIAN', 'TWO OR MORE RACES']\n",
    "parity_diff_df.drop(\n",
    "    labels=drop_indices,\n",
    "    axis = 0,\n",
    "    inplace=True)\n",
    "epi_df.drop(\n",
    "    labels=drop_indices,\n",
    "    axis = 0,\n",
    "    inplace=True)\n",
    "exec_df.drop(\n",
    "    labels=drop_indices,\n",
    "    axis = 0,\n",
    "    inplace=True)\n",
    "epi_ew_df.drop(\n",
    "    labels=drop_indices,\n",
    "    axis = 0,\n",
    "    inplace=True)\n",
    "entry_df.drop(\n",
    "    labels=drop_indices,\n",
    "    axis = 0,\n",
    "    inplace=True)\n",
    "managers_df.drop(\n",
    "    labels=drop_indices,\n",
    "    axis = 0,\n",
    "    inplace=True)"
   ]
  },
  {
   "cell_type": "code",
   "execution_count": 11,
   "metadata": {},
   "outputs": [],
   "source": [
    "# saves epi_df\n",
    "csv_title = state + \"_\" +  str(industry_num) + \"_epi.csv\"\n",
    "rounded_epi_df = epi_df.round(decimals=3)\n",
    "rounded_epi_df.to_csv(csv_title)"
   ]
  },
  {
   "cell_type": "code",
   "execution_count": 12,
   "metadata": {},
   "outputs": [],
   "source": [
    "# save epi_df but transposed\n",
    "csv_title = state + \"_\" +  str(industry_num) + \"_epi_transpose.txt\"\n",
    "rounded_epi_df = epi_df.round(decimals=3)\n",
    "rounded_epi_df.transpose().to_csv(csv_title)"
   ]
  },
  {
   "cell_type": "code",
   "execution_count": 13,
   "metadata": {},
   "outputs": [
    {
     "data": {
      "text/html": [
       "<div>\n",
       "<style scoped>\n",
       "    .dataframe tbody tr th:only-of-type {\n",
       "        vertical-align: middle;\n",
       "    }\n",
       "\n",
       "    .dataframe tbody tr th {\n",
       "        vertical-align: top;\n",
       "    }\n",
       "\n",
       "    .dataframe thead th {\n",
       "        text-align: right;\n",
       "    }\n",
       "</style>\n",
       "<table border=\"1\" class=\"dataframe\">\n",
       "  <thead>\n",
       "    <tr style=\"text-align: right;\">\n",
       "      <th></th>\n",
       "      <th>2009</th>\n",
       "      <th>2010</th>\n",
       "      <th>2011</th>\n",
       "      <th>2012</th>\n",
       "      <th>2013</th>\n",
       "      <th>2014</th>\n",
       "      <th>2015</th>\n",
       "      <th>2016</th>\n",
       "      <th>2017</th>\n",
       "      <th>2018</th>\n",
       "    </tr>\n",
       "    <tr>\n",
       "      <th>Racial/Ethnic_Group</th>\n",
       "      <th></th>\n",
       "      <th></th>\n",
       "      <th></th>\n",
       "      <th></th>\n",
       "      <th></th>\n",
       "      <th></th>\n",
       "      <th></th>\n",
       "      <th></th>\n",
       "      <th></th>\n",
       "      <th></th>\n",
       "    </tr>\n",
       "  </thead>\n",
       "  <tbody>\n",
       "    <tr>\n",
       "      <th>ASIAN</th>\n",
       "      <td>0.443338</td>\n",
       "      <td>0.383555</td>\n",
       "      <td>0.418908</td>\n",
       "      <td>0.447636</td>\n",
       "      <td>0.488103</td>\n",
       "      <td>0.508928</td>\n",
       "      <td>0.504379</td>\n",
       "      <td>0.642804</td>\n",
       "      <td>0.610067</td>\n",
       "      <td>0.654424</td>\n",
       "    </tr>\n",
       "    <tr>\n",
       "      <th>BLACK</th>\n",
       "      <td>0.389334</td>\n",
       "      <td>0.473630</td>\n",
       "      <td>0.445561</td>\n",
       "      <td>0.457101</td>\n",
       "      <td>0.451840</td>\n",
       "      <td>0.400080</td>\n",
       "      <td>0.402304</td>\n",
       "      <td>0.400506</td>\n",
       "      <td>0.413052</td>\n",
       "      <td>0.424130</td>\n",
       "    </tr>\n",
       "    <tr>\n",
       "      <th>HISPANIC</th>\n",
       "      <td>0.472960</td>\n",
       "      <td>0.538853</td>\n",
       "      <td>0.529723</td>\n",
       "      <td>0.591474</td>\n",
       "      <td>0.624932</td>\n",
       "      <td>0.582259</td>\n",
       "      <td>0.554340</td>\n",
       "      <td>0.545345</td>\n",
       "      <td>0.578931</td>\n",
       "      <td>0.529110</td>\n",
       "    </tr>\n",
       "    <tr>\n",
       "      <th>WHITE</th>\n",
       "      <td>1.242465</td>\n",
       "      <td>1.236839</td>\n",
       "      <td>1.237948</td>\n",
       "      <td>1.222450</td>\n",
       "      <td>1.210718</td>\n",
       "      <td>1.224366</td>\n",
       "      <td>1.238512</td>\n",
       "      <td>1.205392</td>\n",
       "      <td>1.223957</td>\n",
       "      <td>1.223938</td>\n",
       "    </tr>\n",
       "  </tbody>\n",
       "</table>\n",
       "</div>"
      ],
      "text/plain": [
       "                         2009      2010      2011      2012      2013  \\\n",
       "Racial/Ethnic_Group                                                     \n",
       "ASIAN                0.443338  0.383555  0.418908  0.447636  0.488103   \n",
       "BLACK                0.389334  0.473630  0.445561  0.457101  0.451840   \n",
       "HISPANIC             0.472960  0.538853  0.529723  0.591474  0.624932   \n",
       "WHITE                1.242465  1.236839  1.237948  1.222450  1.210718   \n",
       "\n",
       "                         2014      2015      2016      2017      2018  \n",
       "Racial/Ethnic_Group                                                    \n",
       "ASIAN                0.508928  0.504379  0.642804  0.610067  0.654424  \n",
       "BLACK                0.400080  0.402304  0.400506  0.413052  0.424130  \n",
       "HISPANIC             0.582259  0.554340  0.545345  0.578931  0.529110  \n",
       "WHITE                1.224366  1.238512  1.205392  1.223957  1.223938  "
      ]
     },
     "execution_count": 13,
     "metadata": {},
     "output_type": "execute_result"
    }
   ],
   "source": [
    "epi_df"
   ]
  },
  {
   "cell_type": "code",
   "execution_count": 14,
   "metadata": {},
   "outputs": [
    {
     "data": {
      "text/html": [
       "<div>\n",
       "<style scoped>\n",
       "    .dataframe tbody tr th:only-of-type {\n",
       "        vertical-align: middle;\n",
       "    }\n",
       "\n",
       "    .dataframe tbody tr th {\n",
       "        vertical-align: top;\n",
       "    }\n",
       "\n",
       "    .dataframe thead th {\n",
       "        text-align: right;\n",
       "    }\n",
       "</style>\n",
       "<table border=\"1\" class=\"dataframe\">\n",
       "  <thead>\n",
       "    <tr style=\"text-align: right;\">\n",
       "      <th></th>\n",
       "      <th>Executive/Senior Level Officials &amp; Managers</th>\n",
       "      <th>First/Mid Level Officials &amp; Managers</th>\n",
       "      <th>Professionals</th>\n",
       "      <th>entry_workers</th>\n",
       "      <th>EPI</th>\n",
       "      <th>Managers_to_Execs</th>\n",
       "      <th>Professionals_to_Managers</th>\n",
       "      <th>EPI_ew</th>\n",
       "      <th>parity_diff</th>\n",
       "    </tr>\n",
       "    <tr>\n",
       "      <th>Racial/Ethnic_Group</th>\n",
       "      <th></th>\n",
       "      <th></th>\n",
       "      <th></th>\n",
       "      <th></th>\n",
       "      <th></th>\n",
       "      <th></th>\n",
       "      <th></th>\n",
       "      <th></th>\n",
       "      <th></th>\n",
       "    </tr>\n",
       "  </thead>\n",
       "  <tbody>\n",
       "    <tr>\n",
       "      <th>AMERICAN INDIAN</th>\n",
       "      <td>0.001298</td>\n",
       "      <td>0.002117</td>\n",
       "      <td>0.001926</td>\n",
       "      <td>0.003109</td>\n",
       "      <td>0.673818</td>\n",
       "      <td>0.613149</td>\n",
       "      <td>1.098947</td>\n",
       "      <td>0.417434</td>\n",
       "      <td>-0.326182</td>\n",
       "    </tr>\n",
       "    <tr>\n",
       "      <th>ASIAN</th>\n",
       "      <td>0.063960</td>\n",
       "      <td>0.111355</td>\n",
       "      <td>0.166756</td>\n",
       "      <td>0.077092</td>\n",
       "      <td>0.383555</td>\n",
       "      <td>0.574378</td>\n",
       "      <td>0.667774</td>\n",
       "      <td>0.829658</td>\n",
       "      <td>-0.616445</td>\n",
       "    </tr>\n",
       "    <tr>\n",
       "      <th>BLACK</th>\n",
       "      <td>0.027994</td>\n",
       "      <td>0.051960</td>\n",
       "      <td>0.059105</td>\n",
       "      <td>0.165016</td>\n",
       "      <td>0.473630</td>\n",
       "      <td>0.538758</td>\n",
       "      <td>0.879115</td>\n",
       "      <td>0.169645</td>\n",
       "      <td>-0.526370</td>\n",
       "    </tr>\n",
       "    <tr>\n",
       "      <th>HAWAIIAN</th>\n",
       "      <td>0.001205</td>\n",
       "      <td>0.001587</td>\n",
       "      <td>0.002866</td>\n",
       "      <td>0.002665</td>\n",
       "      <td>0.420479</td>\n",
       "      <td>0.759137</td>\n",
       "      <td>0.553890</td>\n",
       "      <td>0.452220</td>\n",
       "      <td>-0.579521</td>\n",
       "    </tr>\n",
       "    <tr>\n",
       "      <th>HISPANIC</th>\n",
       "      <td>0.029848</td>\n",
       "      <td>0.049765</td>\n",
       "      <td>0.055392</td>\n",
       "      <td>0.138553</td>\n",
       "      <td>0.538853</td>\n",
       "      <td>0.599784</td>\n",
       "      <td>0.898411</td>\n",
       "      <td>0.215426</td>\n",
       "      <td>-0.461147</td>\n",
       "    </tr>\n",
       "    <tr>\n",
       "      <th>TWO OR MORE RACES</th>\n",
       "      <td>0.003430</td>\n",
       "      <td>0.005556</td>\n",
       "      <td>0.008717</td>\n",
       "      <td>0.010017</td>\n",
       "      <td>0.393434</td>\n",
       "      <td>0.617320</td>\n",
       "      <td>0.637325</td>\n",
       "      <td>0.342378</td>\n",
       "      <td>-0.606566</td>\n",
       "    </tr>\n",
       "    <tr>\n",
       "      <th>WHITE</th>\n",
       "      <td>0.872265</td>\n",
       "      <td>0.777660</td>\n",
       "      <td>0.705238</td>\n",
       "      <td>0.603548</td>\n",
       "      <td>1.236839</td>\n",
       "      <td>1.121654</td>\n",
       "      <td>1.102692</td>\n",
       "      <td>1.445230</td>\n",
       "      <td>0.236839</td>\n",
       "    </tr>\n",
       "  </tbody>\n",
       "</table>\n",
       "</div>"
      ],
      "text/plain": [
       "                     Executive/Senior Level Officials & Managers  \\\n",
       "Racial/Ethnic_Group                                                \n",
       "AMERICAN INDIAN                                         0.001298   \n",
       "ASIAN                                                   0.063960   \n",
       "BLACK                                                   0.027994   \n",
       "HAWAIIAN                                                0.001205   \n",
       "HISPANIC                                                0.029848   \n",
       "TWO OR MORE RACES                                       0.003430   \n",
       "WHITE                                                   0.872265   \n",
       "\n",
       "                     First/Mid Level Officials & Managers  Professionals  \\\n",
       "Racial/Ethnic_Group                                                        \n",
       "AMERICAN INDIAN                                  0.002117       0.001926   \n",
       "ASIAN                                            0.111355       0.166756   \n",
       "BLACK                                            0.051960       0.059105   \n",
       "HAWAIIAN                                         0.001587       0.002866   \n",
       "HISPANIC                                         0.049765       0.055392   \n",
       "TWO OR MORE RACES                                0.005556       0.008717   \n",
       "WHITE                                            0.777660       0.705238   \n",
       "\n",
       "                     entry_workers       EPI  Managers_to_Execs  \\\n",
       "Racial/Ethnic_Group                                               \n",
       "AMERICAN INDIAN           0.003109  0.673818           0.613149   \n",
       "ASIAN                     0.077092  0.383555           0.574378   \n",
       "BLACK                     0.165016  0.473630           0.538758   \n",
       "HAWAIIAN                  0.002665  0.420479           0.759137   \n",
       "HISPANIC                  0.138553  0.538853           0.599784   \n",
       "TWO OR MORE RACES         0.010017  0.393434           0.617320   \n",
       "WHITE                     0.603548  1.236839           1.121654   \n",
       "\n",
       "                     Professionals_to_Managers    EPI_ew  parity_diff  \n",
       "Racial/Ethnic_Group                                                    \n",
       "AMERICAN INDIAN                       1.098947  0.417434    -0.326182  \n",
       "ASIAN                                 0.667774  0.829658    -0.616445  \n",
       "BLACK                                 0.879115  0.169645    -0.526370  \n",
       "HAWAIIAN                              0.553890  0.452220    -0.579521  \n",
       "HISPANIC                              0.898411  0.215426    -0.461147  \n",
       "TWO OR MORE RACES                     0.637325  0.342378    -0.606566  \n",
       "WHITE                                 1.102692  1.445230     0.236839  "
      ]
     },
     "execution_count": 14,
     "metadata": {},
     "output_type": "execute_result"
    }
   ],
   "source": [
    "df_list[1]"
   ]
  },
  {
   "cell_type": "markdown",
   "metadata": {},
   "source": [
    "## 3. Creating Visualizations"
   ]
  },
  {
   "cell_type": "code",
   "execution_count": 15,
   "metadata": {},
   "outputs": [],
   "source": [
    "import matplotlib.pyplot as plt"
   ]
  },
  {
   "cell_type": "code",
   "execution_count": 16,
   "metadata": {},
   "outputs": [],
   "source": [
    "# formatting for later plotting\n",
    "epi_df = epi_df.transpose()\n",
    "parity_diff_df = parity_diff_df.transpose()\n",
    "exec_df = exec_df.transpose()\n",
    "epi_ew_df = epi_ew_df.transpose()\n",
    "entry_df = entry_df.transpose()\n",
    "managers_df = managers_df.transpose()"
   ]
  },
  {
   "cell_type": "code",
   "execution_count": 17,
   "metadata": {},
   "outputs": [
    {
     "data": {
      "text/plain": [
       "2009    0.443338\n",
       "2010    0.383555\n",
       "2011    0.418908\n",
       "2012    0.447636\n",
       "2013    0.488103\n",
       "2014    0.508928\n",
       "2015    0.504379\n",
       "2016    0.642804\n",
       "2017    0.610067\n",
       "2018    0.654424\n",
       "Name: ASIAN, dtype: float64"
      ]
     },
     "execution_count": 17,
     "metadata": {},
     "output_type": "execute_result"
    }
   ],
   "source": [
    "epi_df.iloc[:,0]"
   ]
  },
  {
   "cell_type": "markdown",
   "metadata": {},
   "source": [
    "### EPI Graph"
   ]
  },
  {
   "cell_type": "code",
   "execution_count": 18,
   "metadata": {},
   "outputs": [
    {
     "data": {
      "image/png": "[encoded data removed]",
      "text/plain": [
       "<Figure size 432x288 with 1 Axes>"
      ]
     },
     "metadata": {
      "needs_background": "light"
     },
     "output_type": "display_data"
    }
   ],
   "source": [
    "years = epi_df.index\n",
    "\n",
    "axes = plt.axes()\n",
    "axes.set_ylim([.2, 1.8])\n",
    "\n",
    "plt.plot(years, epi_df.iloc[:,0], linestyle=\"dashed\")\n",
    "plt.plot(years, epi_df.iloc[:,1], linestyle=\"dotted\")\n",
    "plt.plot(years, epi_df.iloc[:,2], linestyle=\"dashdot\")\n",
    "plt.plot(years, epi_df.iloc[:,3])\n",
    "columns = [\"Asian\", \"Black\", \"Hispanic\", \"White\"]\n",
    "plt.legend(labels = columns, fontsize=14, bbox_to_anchor=(1, 1))\n",
    "plt.xlabel('Year', fontsize=15)\n",
    "plt.ylabel('EPI', fontsize= 15)\n",
    "plt.xticks(fontsize = 13, rotation =25)\n",
    "plt.yticks(fontsize = 13)\n",
    "name = state+str(industry_num)+\"_EPI.png\"\n",
    "plt.savefig(name, bbox_inches = 'tight')\n",
    "plt.show()"
   ]
  },
  {
   "cell_type": "markdown",
   "metadata": {},
   "source": [
    "### Parity Graph"
   ]
  },
  {
   "cell_type": "markdown",
   "metadata": {},
   "source": [
    "The epi graph but subtract 1 so that 0 is the baseline/target"
   ]
  },
  {
   "cell_type": "code",
   "execution_count": 19,
   "metadata": {},
   "outputs": [
    {
     "data": {
      "image/png": "[encoded data removed]",
      "text/plain": [
       "<Figure size 432x288 with 1 Axes>"
      ]
     },
     "metadata": {
      "needs_background": "light"
     },
     "output_type": "display_data"
    }
   ],
   "source": [
    "years = parity_diff_df.index\n",
    "\n",
    "axes = plt.axes()\n",
    "\n",
    "plt.plot(years, parity_diff_df.iloc[:,0], linestyle=\"dashed\")\n",
    "plt.plot(years, parity_diff_df.iloc[:,1], linestyle=\"dotted\")\n",
    "plt.plot(years, parity_diff_df.iloc[:,2], linestyle=\"dashdot\")\n",
    "plt.plot(years, parity_diff_df.iloc[:,3])\n",
    "columns = [\"Asian\", \"Black\", \"Hispanic\", \"White\"]\n",
    "plt.legend(labels = columns, fontsize=14, bbox_to_anchor=(1, 1))\n",
    "plt.xlabel('Year', fontsize=15)\n",
    "plt.ylabel('Ratio', fontsize= 15)\n",
    "plt.xticks(fontsize = 13, rotation =25)\n",
    "plt.yticks(fontsize = 13)\n",
    "plt.title('Parity Index by Ethnicity Group')\n",
    "name = state+str(industry_num)+\"_parity.png\"\n",
    "plt.savefig(name, bbox_inches = 'tight')\n",
    "plt.plot([0,9], [0, 0], '-', lw=1)\n",
    "plt.show()"
   ]
  },
  {
   "cell_type": "markdown",
   "metadata": {},
   "source": [
    "### Professional to Manager Parity Index by Racial Group"
   ]
  },
  {
   "cell_type": "code",
   "execution_count": 20,
   "metadata": {},
   "outputs": [
    {
     "data": {
      "image/png": "[encoded data removed]",
      "text/plain": [
       "<Figure size 432x288 with 1 Axes>"
      ]
     },
     "metadata": {
      "needs_background": "light"
     },
     "output_type": "display_data"
    }
   ],
   "source": [
    "# graph of ethnicity breakdown for asian professionals to asian managers ratio throughout the years\n",
    "years = managers_df.index\n",
    "\n",
    "axes = plt.axes()\n",
    "\n",
    "plt.plot(years, managers_df.iloc[:,0], linestyle=\"dashed\")\n",
    "plt.plot(years, managers_df.iloc[:,1], linestyle=\"dotted\")\n",
    "plt.plot(years, managers_df.iloc[:,2], linestyle=\"dashdot\")\n",
    "plt.plot(years, managers_df.iloc[:,3])\n",
    "columns = [\"Asian\", \"Black\", \"Hispanic\", \"White\"]\n",
    "plt.legend(labels = columns, fontsize=14, bbox_to_anchor=(1, 1))\n",
    "plt.xlabel('Year', fontsize=15)\n",
    "plt.ylabel('Ratio', fontsize= 15)\n",
    "plt.xticks(fontsize = 13, rotation =25)\n",
    "plt.yticks(fontsize = 13)\n",
    "plt.title('Professional to Manager Parity Index by Ethnicity Group')\n",
    "name = state+str(industry_num)+\"_Managers.png\"\n",
    "plt.savefig(name, bbox_inches = 'tight')\n",
    "plt.show()"
   ]
  },
  {
   "cell_type": "markdown",
   "metadata": {},
   "source": [
    "### Managers to Executive Parity Index by Ethnicity Group"
   ]
  },
  {
   "cell_type": "code",
   "execution_count": 21,
   "metadata": {},
   "outputs": [
    {
     "data": {
      "image/png": "[encoded data removed]",
      "text/plain": [
       "<Figure size 432x288 with 1 Axes>"
      ]
     },
     "metadata": {
      "needs_background": "light"
     },
     "output_type": "display_data"
    }
   ],
   "source": [
    "# graph of ethnicity breakdown for asian managers to asian executives ratio throughout the years\n",
    "years = exec_df.index\n",
    "\n",
    "axes = plt.axes()\n",
    "\n",
    "plt.plot(years, exec_df.iloc[:,0], linestyle=\"dashed\")\n",
    "plt.plot(years, exec_df.iloc[:,1], linestyle=\"dotted\")\n",
    "plt.plot(years, exec_df.iloc[:,2], linestyle=\"dashdot\")\n",
    "plt.plot(years, exec_df.iloc[:,3])\n",
    "columns = [\"Asian\", \"Black\", \"Hispanic\", \"White\"]\n",
    "plt.legend(labels = columns, fontsize=14, bbox_to_anchor=(1, 1))\n",
    "plt.xlabel('Year', fontsize=15)\n",
    "plt.ylabel('Ratio', fontsize= 15)\n",
    "plt.xticks(fontsize = 13, rotation =25)\n",
    "plt.yticks(fontsize = 13)\n",
    "plt.title('Managers to Executive Parity Index by Ethnicity Group')\n",
    "name = state+str(industry_num)+\"_Executives.png\"\n",
    "plt.savefig(name, bbox_inches = 'tight')\n",
    "plt.show()"
   ]
  },
  {
   "cell_type": "markdown",
   "metadata": {},
   "source": [
    "### Executive Parity Index by Ethnicity Group (Entry Level)\n",
    "- assumption before was professionals were lowest level\n",
    "- assumption here is that all other columns other than managers and execs are grouped in one level"
   ]
  },
  {
   "cell_type": "code",
   "execution_count": 22,
   "metadata": {},
   "outputs": [
    {
     "data": {
      "image/png": "[encoded data removed]",
      "text/plain": [
       "<Figure size 432x288 with 1 Axes>"
      ]
     },
     "metadata": {
      "needs_background": "light"
     },
     "output_type": "display_data"
    }
   ],
   "source": [
    "# graph of ethnicity breakdown for asian professionals to asian managers ratio throughout the years\n",
    "years = epi_ew_df.index\n",
    "\n",
    "axes = plt.axes()\n",
    "\n",
    "plt.plot(years, epi_ew_df.iloc[:,0], linestyle=\"dashed\")\n",
    "plt.plot(years, epi_ew_df.iloc[:,1], linestyle=\"dotted\")\n",
    "plt.plot(years, epi_ew_df.iloc[:,2], linestyle=\"dashdot\")\n",
    "plt.plot(years, epi_ew_df.iloc[:,3])\n",
    "columns = [\"Asian\", \"Black\", \"Hispanic\", \"White\"]\n",
    "plt.legend(labels = columns, fontsize=14, bbox_to_anchor=(1, 1))\n",
    "plt.xlabel('Year', fontsize=15)\n",
    "plt.ylabel('Ratio', fontsize= 15)\n",
    "plt.xticks(fontsize = 13, rotation =25)\n",
    "plt.yticks(fontsize = 13)\n",
    "plt.title('Executive Parity Index by Ethnicity Group (Entry Level)')\n",
    "# won't save\n",
    "# name = state+str(industry_num)+\"_epi_ew.png\" # ew is for entry workers\n",
    "# plt.savefig(name, bbox_inches = 'tight')\n",
    "plt.show()"
   ]
  },
  {
   "cell_type": "markdown",
   "metadata": {},
   "source": [
    "### Entry Level Ratio by Ethnicity Group (Entry Level)"
   ]
  },
  {
   "cell_type": "code",
   "execution_count": 23,
   "metadata": {},
   "outputs": [
    {
     "data": {
      "image/png": "[encoded data removed]",
      "text/plain": [
       "<Figure size 432x288 with 1 Axes>"
      ]
     },
     "metadata": {
      "needs_background": "light"
     },
     "output_type": "display_data"
    }
   ],
   "source": [
    "# graph of ethnicity breakdown for asian professionals to asian managers ratio throughout the years\n",
    "years = entry_df.index\n",
    "\n",
    "axes = plt.axes()\n",
    "\n",
    "plt.plot(years, entry_df.iloc[:,0], linestyle=\"dashed\")\n",
    "plt.plot(years, entry_df.iloc[:,1], linestyle=\"dotted\")\n",
    "plt.plot(years, entry_df.iloc[:,2], linestyle=\"dashdot\")\n",
    "plt.plot(years, entry_df.iloc[:,3])\n",
    "columns = [\"Asian\", \"Black\", \"Hispanic\", \"White\"]\n",
    "plt.legend(labels = columns, fontsize=14, bbox_to_anchor=(1, 1))\n",
    "plt.xlabel('Year', fontsize=15)\n",
    "plt.ylabel('Ratio', fontsize= 15)\n",
    "plt.xticks(fontsize = 13, rotation =25)\n",
    "plt.yticks(fontsize = 13)\n",
    "plt.title('Entry Level Ratio by Ethnicity Group (Entry Level)')\n",
    "# won't save\n",
    "# name = state+str(industry_num)+\"_entry.png\" # ew is for entry workers\n",
    "# plt.savefig(name, bbox_inches = 'tight')\n",
    "plt.show()"
   ]
  },
  {
   "cell_type": "markdown",
   "metadata": {},
   "source": [
    "## 4. Data Analysis (Tests for Significance)"
   ]
  },
  {
   "cell_type": "code",
   "execution_count": 24,
   "metadata": {},
   "outputs": [],
   "source": [
    "# Welch's t test (variances not equal, sample size less than 10)\n",
    "import scipy\n",
    "from scipy import stats\n",
    "white_epi = epi_df[\"WHITE\"]\n",
    "asian_epi = epi_df[\"ASIAN\"]\n",
    "hispanic_epi = epi_df[\"HISPANIC\"]\n",
    "black_epi = epi_df[\"BLACK\"]\n",
    "\n",
    "black_test = scipy.stats.ttest_ind(a=black_epi, b=asian_epi, equal_var=False, alternative = 'greater')\n",
    "hispanic_test = scipy.stats.ttest_ind(a=hispanic_epi, b=asian_epi, equal_var=False, alternative = 'greater')\n",
    "white_test = scipy.stats.ttest_ind(a=white_epi, b=asian_epi, equal_var=False, alternative = 'greater')\n",
    "t_statistic = np.array([black_test[0], hispanic_test[0], white_test[0]])\n",
    "p_value = np.array([black_test[1], hispanic_test[1], white_test[1]])\n",
    "t_test_df = pd.DataFrame({'t-statistic': t_statistic, 'p-value': p_value}, columns=['t-statistic', 'p-value'], index = [\"Black\", \"Hispanic\", \"White\"])\n",
    "new_name = state+\"_\"+str(industry_num) + \"_ttest.png\"\n",
    "t_test_df = t_test_df.round(3) # rounding values for visual purposes\n",
    "\n",
    "t_test_df.reset_index(inplace=True)\n",
    "t_test_df = t_test_df.rename(columns = {'index':'race'})\n",
    "\n",
    "\n",
    "import dataframe_image as dfi \n",
    "dfi.export(t_test_df, new_name)\n",
    "\n",
    "csv_name = state+\"_\"+str(industry_num) + \"_ttest.csv\"\n",
    "t_test_df.to_csv(csv_name)"
   ]
  },
  {
   "cell_type": "code",
   "execution_count": 25,
   "metadata": {},
   "outputs": [
    {
     "data": {
      "text/html": [
       "<div>\n",
       "<style scoped>\n",
       "    .dataframe tbody tr th:only-of-type {\n",
       "        vertical-align: middle;\n",
       "    }\n",
       "\n",
       "    .dataframe tbody tr th {\n",
       "        vertical-align: top;\n",
       "    }\n",
       "\n",
       "    .dataframe thead th {\n",
       "        text-align: right;\n",
       "    }\n",
       "</style>\n",
       "<table border=\"1\" class=\"dataframe\">\n",
       "  <thead>\n",
       "    <tr style=\"text-align: right;\">\n",
       "      <th></th>\n",
       "      <th>race</th>\n",
       "      <th>t-statistic</th>\n",
       "      <th>p-value</th>\n",
       "    </tr>\n",
       "  </thead>\n",
       "  <tbody>\n",
       "    <tr>\n",
       "      <th>0</th>\n",
       "      <td>Black</td>\n",
       "      <td>-2.681</td>\n",
       "      <td>0.989</td>\n",
       "    </tr>\n",
       "    <tr>\n",
       "      <th>1</th>\n",
       "      <td>Hispanic</td>\n",
       "      <td>1.354</td>\n",
       "      <td>0.100</td>\n",
       "    </tr>\n",
       "    <tr>\n",
       "      <th>2</th>\n",
       "      <td>White</td>\n",
       "      <td>23.591</td>\n",
       "      <td>0.000</td>\n",
       "    </tr>\n",
       "  </tbody>\n",
       "</table>\n",
       "</div>"
      ],
      "text/plain": [
       "       race  t-statistic  p-value\n",
       "0     Black       -2.681    0.989\n",
       "1  Hispanic        1.354    0.100\n",
       "2     White       23.591    0.000"
      ]
     },
     "execution_count": 25,
     "metadata": {},
     "output_type": "execute_result"
    }
   ],
   "source": [
    "t_test_df"
   ]
  }
 ],
 "metadata": {
  "kernelspec": {
   "display_name": "Python 3",
   "language": "python",
   "name": "python3"
  },
  "language_info": {
   "codemirror_mode": {
    "name": "ipython",
    "version": 3
   },
   "file_extension": ".py",
   "mimetype": "text/x-python",
   "name": "python",
   "nbconvert_exporter": "python",
   "pygments_lexer": "ipython3",
   "version": "3.8.3"
  }
 },
 "nbformat": 4,
 "nbformat_minor": 4
}
