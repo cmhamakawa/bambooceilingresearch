{
 "cells": [
  {
   "cell_type": "markdown",
   "metadata": {},
   "source": [
    "# By State EPI Information"
   ]
  },
  {
   "cell_type": "code",
   "execution_count": 1,
   "metadata": {},
   "outputs": [
    {
     "name": "stderr",
     "output_type": "stream",
     "text": [
      "[WDM] - \n",
      "\n",
      "[WDM] - ====== WebDriver manager ======\n",
      "[WDM] - Current google-chrome version is 114.0.5735\n",
      "[WDM] - Get LATEST driver version for 114.0.5735\n",
      "[WDM] - Driver [/Users/christinehamakawa/.wdm/drivers/chromedriver/mac64/114.0.5735.90/chromedriver] found in cache\n"
     ]
    }
   ],
   "source": [
    "import pandas as pd\n",
    "import requests\n",
    "from bs4 import BeautifulSoup\n",
    "import numpy as np\n",
    "import os\n",
    "import shutil\n",
    "from selenium.common.exceptions import TimeoutException, NoSuchElementException\n",
    "from selenium import webdriver\n",
    "from selenium.webdriver.common.action_chains import ActionChains\n",
    "from selenium.webdriver.common.keys import Keys\n",
    "from selenium.webdriver.support.ui import Select\n",
    "\n",
    "from selenium.webdriver.chrome.service import Service\n",
    "from webdriver_manager.chrome import ChromeDriverManager\n",
    "from selenium.webdriver.common.by import By\n",
    "s=Service(ChromeDriverManager().install())\n",
    "import scipy\n",
    "from scipy import stats\n",
    "import matplotlib.pyplot as plt\n",
    "\n",
    "import dataframe_image as dfi"
   ]
  },
  {
   "cell_type": "markdown",
   "metadata": {},
   "source": [
    "## 1. Webscraping Information and Creating Dataframes/Reformatting"
   ]
  },
  {
   "cell_type": "code",
   "execution_count": 2,
   "metadata": {},
   "outputs": [],
   "source": [
    "# logistics\n",
    "og_directory = os.getcwd()\n",
    "states_significance_df = pd.read_excel('By State EPI/states_significance.xlsx')\n",
    "states_significance_df = states_significance_df.drop(columns=['Unnamed: 0'])\n",
    "state_names = [\"Alaska\", \"Alabama\", \"Arkansas\", \"Arizona\", \"California\", \"Colorado\", \"Connecticut\", \"Delaware\", \"Florida\", \"Georgia\", \"Hawaii\", \"Iowa\", \"Idaho\", \"Illinois\", \"Indiana\", \"Kansas\", \"Kentucky\", \"Louisiana\", \"Massachusetts\", \"Maryland\", \"Maine\", \"Michigan\", \"Minnesota\", \"Missouri\", \"Mississippi\", \"Montana\", \"North Carolina\", \"North Dakota\", \"Nebraska\", \"New Hampshire\", \"New Jersey\", \"New Mexico\", \"Nevada\", \"New York\", \"Ohio\", \"Oklahoma\", \"Oregon\", \"Pennsylvania\", \"Rhode Island\", \"South Carolina\", \"South Dakota\", \"Tennessee\", \"Texas\", \"Utah\", \"Virginia\", \"Vermont\", \"Washington\", \"Wisconsin\", \"West Virginia\", \"Wyoming\"]"
   ]
  },
  {
   "cell_type": "code",
   "execution_count": 3,
   "metadata": {},
   "outputs": [],
   "source": [
    "# webscrapes information and creates dataframes with epi information\n",
    "def webscrape_df(year, state, geo_title):\n",
    "    geo = geo_title\n",
    "    s=Service(ChromeDriverManager().install())\n",
    "    driver = webdriver.Chrome(service=s)\n",
    "    base_url = 'https://www.eeoc.gov/statistics/employment/jobpatterns/eeo1/'\n",
    "    url = base_url + str(year)\n",
    "    driver.get(url)\n",
    "    element_dropdown = driver.find_element_by_id(\"edit-scope\")\n",
    "    select = Select(element_dropdown)\n",
    "    # SELECTS OVERARCHING SECTION \n",
    "    dir(select)\n",
    "    try:\n",
    "        select.select_by_visible_text(\"States, All Industries\")\n",
    "        driver.find_element_by_xpath('//*[(@id = \"edit-submit\")]').click()\n",
    "    except NoSuchElementException:\n",
    "        print('The item does not exist')\n",
    "    \n",
    "    # SELECTS STATE (make into function)\n",
    "    element_dropdown1 = driver.find_element_by_id(\"edit-state\")\n",
    "    select = Select(element_dropdown1)\n",
    "    try:\n",
    "        select.select_by_visible_text(state) # needs to click by name -- think I can figure that out\n",
    "        driver.find_element_by_xpath('//*[(@id = \"edit-submit\")]').click() # clicks on state\n",
    "    except NoSuchElementException:\n",
    "        print('The item does not exist')\n",
    "\n",
    "    # read html of page we navigated to\n",
    "    html = driver.page_source\n",
    "    driver.close() # we'll close the browser for now\n",
    "    soup = BeautifulSoup(html, \"html.parser\")\n",
    "    html_headers = soup.find_all(scope=\"col\")\n",
    "    headers = [html_headers[i].get_text() for i in range(len(html_headers))]\n",
    "\n",
    "    # read ethnic groups from html & format for dataframe\n",
    "    html_ethnic_groups = soup.find_all(scope=\"rowgroup\")\n",
    "    ethnic_groups = [html_ethnic_groups[i].get_text() for i in range(len(html_ethnic_groups))]\n",
    "    ethnic_groups = np.repeat(ethnic_groups, 2)\n",
    "    # read gender groups from html & format for dataframe\n",
    "    html_gender_groups = soup.find_all(scope=\"row\")\n",
    "    gender_groups = [html_gender_groups[i].get_text() for i in range(len(html_gender_groups))]\n",
    "\n",
    "    # getting the numbers for the datframe\n",
    "    html_data = soup.find_all(\"tr\")\n",
    "    data = [\"\"]*len(ethnic_groups)\n",
    "    count = 0\n",
    "    for i in range(len(html_data)):\n",
    "        temp_data = html_data[i].find_all(\"td\")\n",
    "        if len(temp_data) != 0:\n",
    "            temp_list = [temp_data[i].get_text().replace(\",\",\"\") for i in range(len(temp_data))]\n",
    "            for j in range(len(temp_list)):\n",
    "                if len(temp_list[j]) == 0:\n",
    "                    temp_list[j] = 0\n",
    "                else:\n",
    "                    temp_list[j] = int(temp_list[j])\n",
    "            data[count] = temp_list\n",
    "            count +=1\n",
    "        \n",
    "    # combining everything into a dataframe\n",
    "    final_df = pd.DataFrame(data, columns = headers[1:])\n",
    "    final_df.index = ethnic_groups\n",
    "    final_df.index.name = headers[0]\n",
    "    \n",
    "    final_df.index.name = \"Racial/Ethnic_Group\"\n",
    "\n",
    "    final_df[\"entry_workers\"] = final_df.iloc[:,3:11].sum(axis=1)\n",
    "    # only need executives, managers, professionals, entry workers\n",
    "    final_df = final_df.drop(\n",
    "        columns=['Technicians',\n",
    "           'Sales Workers', 'Office & Clerical Workers', 'Craft Workers',\n",
    "           'Operatives', 'Laborers', 'Service Workers'],\n",
    "        axis = 1,\n",
    "    )\n",
    "    final_df = final_df.fillna(0)\n",
    "    \n",
    "    # non gender separated df\n",
    "    ethnic_df = final_df.groupby('Racial/Ethnic_Group')\n",
    "    ethnic_df = ethnic_df.sum()\n",
    "    totals = list(ethnic_df.sum(axis = 0, skipna = True))\n",
    "    col_names = list(ethnic_df.columns)\n",
    "    for i in range(len(ethnic_df.columns)):\n",
    "        ethnic_df[col_names[i]] = ethnic_df[col_names[i]] / totals[i]\n",
    "    ethnic_df['EPI'] = ethnic_df['Executive/Senior Level Officials & Managers'] / ethnic_df['Professionals']\n",
    "    ethnic_df['Managers_to_Execs'] = ethnic_df['Executive/Senior Level Officials & Managers'] / ethnic_df['First/Mid Level Officials & Managers']\n",
    "    ethnic_df['Professionals_to_Managers'] = ethnic_df['First/Mid Level Officials & Managers'] / ethnic_df['Professionals']\n",
    "    ethnic_df['EPI_ew'] = ethnic_df['Executive/Senior Level Officials & Managers'] / ethnic_df['entry_workers']\n",
    "    ethnic_df['parity_diff'] = ethnic_df['EPI'] - 1\n",
    "    print(year)\n",
    "    return ethnic_df"
   ]
  },
  {
   "cell_type": "markdown",
   "metadata": {},
   "source": [
    "## 2. Data Analysis (Tests for Significance)\n",
    "Calculates the EPI of each state. Conducts welch's t-test and counts number of groups that the Asian EPI is significantly less than (as opposed to equal to)."
   ]
  },
  {
   "cell_type": "code",
   "execution_count": 4,
   "metadata": {},
   "outputs": [],
   "source": [
    "def analyze_state_epi(state):\n",
    "    geo_title= \"all_states\"\n",
    "    start_year = 2009\n",
    "    end_year = 2018\n",
    "\n",
    "    # not inputs, but impacted by inputs\n",
    "    years = list(range(start_year,end_year + 1))\n",
    "    geo_folder_name = \"By State EPI/\" + geo_title\n",
    "    state_folder_name = state\n",
    "    path_name = geo_folder_name + \"/\" + state_folder_name\n",
    "    # we did not read in certain ethnicities (nor do we use), so we add dummy values\n",
    "    # we assume that it is a constant increase/decrease in population percentage between decades\n",
    "    if os.path.isdir(geo_folder_name):\n",
    "        os.chdir(geo_folder_name)\n",
    "        if os.path.isdir(state_folder_name):\n",
    "            shutil.rmtree(state_folder_name)\n",
    "        os.makedirs(state_folder_name)\n",
    "        os.chdir(state_folder_name)\n",
    "        print(\"Directory already exists. Let's remove all the files.\")\n",
    "    else:\n",
    "        os.makedirs(path_name)\n",
    "        os.chdir(path_name)\n",
    "        print(\"Directory does not exist. We then make new directory.\")\n",
    "\n",
    "    s=Service(ChromeDriverManager().install())\n",
    "\n",
    "    # CREATING DATAFRAMES\n",
    "    # PART 2 MANIPULATING THE DATA\n",
    "    df_list =  [\"\"] * len(years)\n",
    "    for i in range(len(years)):\n",
    "        df_list[i] = webscrape_df(years[i], state, geo_title)\n",
    "    year = years[0]\n",
    "    parity_diff_df = df_list[0]['parity_diff']\n",
    "    parity_diff_df = parity_diff_df.rename(str(year))\n",
    "    epi_df = df_list[0]['EPI']\n",
    "    epi_df = epi_df.rename(str(year))\n",
    "    exec_df = df_list[0]['Managers_to_Execs']\n",
    "    exec_df = exec_df.rename(str(year))\n",
    "    managers_df =df_list[0]['Professionals_to_Managers']\n",
    "    managers_df = managers_df.rename(str(year))\n",
    "    epi_ew_df = df_list[0]['EPI_ew']\n",
    "    epi_ew_df = epi_ew_df.rename(str(year))\n",
    "    entry_df = df_list[0]['entry_workers']\n",
    "    entry_df = entry_df.rename(str(year))\n",
    "    for i in range(1,len(df_list)):\n",
    "        year+=1\n",
    "        temp1 = df_list[i]['parity_diff']\n",
    "        temp1 = temp1.rename(str(year))\n",
    "        parity_diff_df = pd.concat([parity_diff_df, temp1], axis = 1)\n",
    "        temp2 = df_list[i]['EPI']\n",
    "        temp2 = temp2.rename(str(year))\n",
    "        epi_df = pd.concat([epi_df, temp2], axis = 1)\n",
    "        temp3 = df_list[i]['Managers_to_Execs']\n",
    "        temp3 = temp3.rename(str(year))\n",
    "        exec_df = pd.concat([exec_df, temp3], axis = 1)\n",
    "        temp5 = df_list[i]['EPI_ew']\n",
    "        temp5 = temp5.rename(str(year))\n",
    "        epi_ew_df = pd.concat([epi_ew_df, temp5], axis = 1)\n",
    "        temp6 = df_list[i]['entry_workers']\n",
    "        temp6 = temp6.rename(str(year))\n",
    "        entry_df = pd.concat([entry_df, temp6], axis = 1)\n",
    "        temp7 = df_list[i]['Professionals_to_Managers']\n",
    "        temp7 = temp7.rename(str(year))\n",
    "        managers_df = pd.concat([managers_df, temp7], axis = 1)\n",
    "\n",
    "    drop_indices = ['AMERICAN INDIAN', 'HAWAIIAN', 'TWO OR MORE RACES']\n",
    "    parity_diff_df.drop(\n",
    "        labels=drop_indices,\n",
    "        axis = 0,\n",
    "        inplace=True)\n",
    "    epi_df.drop(\n",
    "        labels=drop_indices,\n",
    "        axis = 0,\n",
    "        inplace=True)\n",
    "    exec_df.drop(\n",
    "        labels=drop_indices,\n",
    "        axis = 0,\n",
    "        inplace=True)\n",
    "    epi_ew_df.drop(\n",
    "        labels=drop_indices,\n",
    "        axis = 0,\n",
    "        inplace=True)\n",
    "    entry_df.drop(\n",
    "        labels=drop_indices,\n",
    "        axis = 0,\n",
    "        inplace=True)\n",
    "    managers_df.drop(\n",
    "        labels=drop_indices,\n",
    "        axis = 0,\n",
    "        inplace=True)\n",
    "    csv_title = state + \"_epi.csv\"\n",
    "    rounded_epi_df = epi_df.round(decimals=3)\n",
    "    rounded_epi_df.to_csv(csv_title)\n",
    "\n",
    "    csv_title = state + \"_epi_transpose.txt\"\n",
    "    rounded_epi_df = epi_df.round(decimals=3)\n",
    "    rounded_epi_df.transpose().to_csv(csv_title)\n",
    "\n",
    "    # PART 3: CREATING VISUALIZATIONS\n",
    "    # The EPI, defined as a ratio of the\n",
    "    ## percentage representation of a company’s Executive workforce relative to that company’s percentage representation of its\n",
    "    ## entry-level Professional workforce\n",
    "    epi_df = epi_df.transpose()\n",
    "    parity_diff_df = parity_diff_df.transpose()\n",
    "    exec_df = exec_df.transpose()\n",
    "    epi_ew_df = epi_ew_df.transpose()\n",
    "    entry_df = entry_df.transpose()\n",
    "    managers_df = managers_df.transpose()\n",
    "    plt.plot(epi_df)\n",
    "    plt.legend(labels = epi_df.columns)\n",
    "    plt.title('Executive Parity Index by Ethnicity Group')\n",
    "    plt.xlabel('Year')\n",
    "    plt.ylabel('Ratios')\n",
    "    name = state+\"_EPI.png\"\n",
    "    plt.savefig(name)\n",
    "    plt.show()\n",
    "\n",
    "    # basically the epi graph but subtract 1 so that 0 is the baseline/target\n",
    "\n",
    "    # parity_diff_df.plot.line()\n",
    "    plt.plot(parity_diff_df)\n",
    "    plt.plot([0,9], [0, 0], '-', lw=1)\n",
    "    plt.legend(labels = parity_diff_df.columns)\n",
    "    plt.title('Parity Index by Ethnicity Group')\n",
    "    plt.xlabel('Year')\n",
    "    plt.ylabel('Ratios')\n",
    "    plt.show()\n",
    "\n",
    "    # TEST\n",
    "    # Welch's t test (variances not equal, sample size less than 10)\n",
    "    white_epi = epi_df[\"WHITE\"]\n",
    "    asian_epi = epi_df[\"ASIAN\"]\n",
    "    hispanic_epi = epi_df[\"HISPANIC\"]\n",
    "    black_epi = epi_df[\"BLACK\"]\n",
    "\n",
    "    black_test = scipy.stats.ttest_ind(a=black_epi, b=asian_epi, equal_var=False, alternative = 'greater')\n",
    "    hispanic_test = scipy.stats.ttest_ind(a=hispanic_epi, b=asian_epi, equal_var=False, alternative = 'greater')\n",
    "    white_test = scipy.stats.ttest_ind(a=white_epi, b=asian_epi, equal_var=False, alternative = 'greater')\n",
    "    t_statistic = np.array([black_test[0], hispanic_test[0], white_test[0]])\n",
    "    p_value = np.array([black_test[1], hispanic_test[1], white_test[1]])\n",
    "    t_test_df = pd.DataFrame({'t statistic': t_statistic, 'p value': p_value}, columns=['t statistic', 'p value'], index = [\"Black\", \"Hispanic\", \"White\"])\n",
    "    new_name = state + \"_ttest.png\"\n",
    "    t_test_df = t_test_df.round(3) # rounding values for visual purposes\n",
    "\n",
    "    dfi.export(t_test_df, new_name)\n",
    "\n",
    "    significance_count = sum(t_test_df.iloc[:,1] < .05)\n",
    "    print(significance_count)\n",
    "    os.chdir(og_directory)\n",
    "\n",
    "    states_significance_df.loc[len(states_significance_df.index)] = [state, significance_count]"
   ]
  },
  {
   "cell_type": "markdown",
   "metadata": {},
   "source": [
    "## 3. Runs functions for each state.\n",
    "This may take a while! (depending on number of states you input)"
   ]
  },
  {
   "cell_type": "code",
   "execution_count": 5,
   "metadata": {},
   "outputs": [
    {
     "name": "stderr",
     "output_type": "stream",
     "text": [
      "[WDM] - \n",
      "\n",
      "[WDM] - ====== WebDriver manager ======\n",
      "[WDM] - Current google-chrome version is 114.0.5735\n",
      "[WDM] - Get LATEST driver version for 114.0.5735\n",
      "[WDM] - Driver [/Users/christinehamakawa/.wdm/drivers/chromedriver/mac64/114.0.5735.90/chromedriver] found in cache\n",
      "[WDM] - \n",
      "\n",
      "[WDM] - ====== WebDriver manager ======\n"
     ]
    },
    {
     "name": "stdout",
     "output_type": "stream",
     "text": [
      "Directory already exists. Let's remove all the files.\n"
     ]
    },
    {
     "name": "stderr",
     "output_type": "stream",
     "text": [
      "[WDM] - Current google-chrome version is 114.0.5735\n",
      "[WDM] - Get LATEST driver version for 114.0.5735\n",
      "[WDM] - Driver [/Users/christinehamakawa/.wdm/drivers/chromedriver/mac64/114.0.5735.90/chromedriver] found in cache\n",
      "<ipython-input-3-b4fdfaaeb06c>:9: DeprecationWarning: find_element_by_* commands are deprecated. Please use find_element() instead\n",
      "  element_dropdown = driver.find_element_by_id(\"edit-scope\")\n",
      "<ipython-input-3-b4fdfaaeb06c>:15: DeprecationWarning: find_element_by_* commands are deprecated. Please use find_element() instead\n",
      "  driver.find_element_by_xpath('//*[(@id = \"edit-submit\")]').click()\n",
      "<ipython-input-3-b4fdfaaeb06c>:20: DeprecationWarning: find_element_by_* commands are deprecated. Please use find_element() instead\n",
      "  element_dropdown1 = driver.find_element_by_id(\"edit-state\")\n",
      "<ipython-input-3-b4fdfaaeb06c>:24: DeprecationWarning: find_element_by_* commands are deprecated. Please use find_element() instead\n",
      "  driver.find_element_by_xpath('//*[(@id = \"edit-submit\")]').click() # clicks on state\n",
      "[WDM] - \n",
      "\n",
      "[WDM] - ====== WebDriver manager ======\n",
      "[WDM] - Current google-chrome version is 114.0.5735\n",
      "[WDM] - Get LATEST driver version for 114.0.5735\n",
      "[WDM] - Driver [/Users/christinehamakawa/.wdm/drivers/chromedriver/mac64/114.0.5735.90/chromedriver] found in cache\n"
     ]
    },
    {
     "name": "stdout",
     "output_type": "stream",
     "text": [
      "2009\n"
     ]
    },
    {
     "name": "stderr",
     "output_type": "stream",
     "text": [
      "[WDM] - \n",
      "\n",
      "[WDM] - ====== WebDriver manager ======\n",
      "[WDM] - Current google-chrome version is 114.0.5735\n",
      "[WDM] - Get LATEST driver version for 114.0.5735\n",
      "[WDM] - Driver [/Users/christinehamakawa/.wdm/drivers/chromedriver/mac64/114.0.5735.90/chromedriver] found in cache\n"
     ]
    },
    {
     "name": "stdout",
     "output_type": "stream",
     "text": [
      "2010\n"
     ]
    },
    {
     "name": "stderr",
     "output_type": "stream",
     "text": [
      "[WDM] - \n",
      "\n",
      "[WDM] - ====== WebDriver manager ======\n",
      "[WDM] - Current google-chrome version is 114.0.5735\n",
      "[WDM] - Get LATEST driver version for 114.0.5735\n",
      "[WDM] - Driver [/Users/christinehamakawa/.wdm/drivers/chromedriver/mac64/114.0.5735.90/chromedriver] found in cache\n"
     ]
    },
    {
     "name": "stdout",
     "output_type": "stream",
     "text": [
      "2011\n"
     ]
    },
    {
     "name": "stderr",
     "output_type": "stream",
     "text": [
      "[WDM] - \n",
      "\n",
      "[WDM] - ====== WebDriver manager ======\n",
      "[WDM] - Current google-chrome version is 114.0.5735\n",
      "[WDM] - Get LATEST driver version for 114.0.5735\n",
      "[WDM] - Driver [/Users/christinehamakawa/.wdm/drivers/chromedriver/mac64/114.0.5735.90/chromedriver] found in cache\n"
     ]
    },
    {
     "name": "stdout",
     "output_type": "stream",
     "text": [
      "2012\n"
     ]
    },
    {
     "name": "stderr",
     "output_type": "stream",
     "text": [
      "[WDM] - \n",
      "\n",
      "[WDM] - ====== WebDriver manager ======\n",
      "[WDM] - Current google-chrome version is 114.0.5735\n",
      "[WDM] - Get LATEST driver version for 114.0.5735\n"
     ]
    },
    {
     "name": "stdout",
     "output_type": "stream",
     "text": [
      "2013\n"
     ]
    },
    {
     "name": "stderr",
     "output_type": "stream",
     "text": [
      "[WDM] - Driver [/Users/christinehamakawa/.wdm/drivers/chromedriver/mac64/114.0.5735.90/chromedriver] found in cache\n",
      "[WDM] - \n",
      "\n",
      "[WDM] - ====== WebDriver manager ======\n",
      "[WDM] - Current google-chrome version is 114.0.5735\n",
      "[WDM] - Get LATEST driver version for 114.0.5735\n",
      "[WDM] - Driver [/Users/christinehamakawa/.wdm/drivers/chromedriver/mac64/114.0.5735.90/chromedriver] found in cache\n"
     ]
    },
    {
     "name": "stdout",
     "output_type": "stream",
     "text": [
      "2014\n"
     ]
    },
    {
     "name": "stderr",
     "output_type": "stream",
     "text": [
      "[WDM] - \n",
      "\n",
      "[WDM] - ====== WebDriver manager ======\n",
      "[WDM] - Current google-chrome version is 114.0.5735\n",
      "[WDM] - Get LATEST driver version for 114.0.5735\n",
      "[WDM] - Driver [/Users/christinehamakawa/.wdm/drivers/chromedriver/mac64/114.0.5735.90/chromedriver] found in cache\n"
     ]
    },
    {
     "name": "stdout",
     "output_type": "stream",
     "text": [
      "2015\n"
     ]
    },
    {
     "name": "stderr",
     "output_type": "stream",
     "text": [
      "[WDM] - \n",
      "\n",
      "[WDM] - ====== WebDriver manager ======\n",
      "[WDM] - Current google-chrome version is 114.0.5735\n",
      "[WDM] - Get LATEST driver version for 114.0.5735\n",
      "[WDM] - Driver [/Users/christinehamakawa/.wdm/drivers/chromedriver/mac64/114.0.5735.90/chromedriver] found in cache\n"
     ]
    },
    {
     "name": "stdout",
     "output_type": "stream",
     "text": [
      "2016\n"
     ]
    },
    {
     "name": "stderr",
     "output_type": "stream",
     "text": [
      "[WDM] - \n",
      "\n",
      "[WDM] - ====== WebDriver manager ======\n",
      "[WDM] - Current google-chrome version is 114.0.5735\n",
      "[WDM] - Get LATEST driver version for 114.0.5735\n",
      "[WDM] - Driver [/Users/christinehamakawa/.wdm/drivers/chromedriver/mac64/114.0.5735.90/chromedriver] found in cache\n"
     ]
    },
    {
     "name": "stdout",
     "output_type": "stream",
     "text": [
      "2017\n",
      "2018\n"
     ]
    },
    {
     "data": {
      "image/png": "[encoded data removed]",
      "text/plain": [
       "<Figure size 432x288 with 1 Axes>"
      ]
     },
     "metadata": {
      "needs_background": "light"
     },
     "output_type": "display_data"
    },
    {
     "data": {
      "image/png": "[encoded data removed]",
      "text/plain": [
       "<Figure size 432x288 with 1 Axes>"
      ]
     },
     "metadata": {
      "needs_background": "light"
     },
     "output_type": "display_data"
    },
    {
     "name": "stdout",
     "output_type": "stream",
     "text": [
      "3\n"
     ]
    }
   ],
   "source": [
    "for s in ['Arkansas']: # for all states, use state_names\n",
    "    os.chdir(og_directory)\n",
    "    analyze_state_epi(s)"
   ]
  },
  {
   "cell_type": "markdown",
   "metadata": {},
   "source": [
    "## 4. Save information and Merge with Asian Population Data"
   ]
  },
  {
   "cell_type": "code",
   "execution_count": 6,
   "metadata": {},
   "outputs": [],
   "source": [
    "# saves information in new file\n",
    "states_significance_df.to_excel('By State EPI/states_sig_final.xlsx')"
   ]
  },
  {
   "cell_type": "code",
   "execution_count": 7,
   "metadata": {},
   "outputs": [
    {
     "name": "stdout",
     "output_type": "stream",
     "text": [
      "      state  significance_level  AsianTotal  AsianPerc\n",
      "0  Arkansas                 3.0       57895      0.019\n"
     ]
    }
   ],
   "source": [
    "# not used and updated\n",
    "asian_pop_df = pd.read_csv('By State EPI/asianPercPop.csv')\n",
    "# for context, we merge states significance count with asian population data\n",
    "merged_inner = pd.merge(left=states_significance_df, right=asian_pop_df, left_on='state', right_on='State')\n",
    "merged_inner=merged_inner.drop(columns=['State'])\n",
    "print(merged_inner)\n",
    "merged_inner.to_excel('By State EPI/states_epi_asian_data.xlsx')"
   ]
  },
  {
   "cell_type": "code",
   "execution_count": 8,
   "metadata": {},
   "outputs": [
    {
     "data": {
      "text/plain": [
       "0.02040816326530612"
      ]
     },
     "execution_count": 8,
     "metadata": {},
     "output_type": "execute_result"
    }
   ],
   "source": [
    "# only run if all states (state_names) are used\n",
    "sum(merged_inner['significance_level'] == 3) / 49"
   ]
  }
 ],
 "metadata": {
  "kernelspec": {
   "display_name": "Python 3",
   "language": "python",
   "name": "python3"
  },
  "language_info": {
   "codemirror_mode": {
    "name": "ipython",
    "version": 3
   },
   "file_extension": ".py",
   "mimetype": "text/x-python",
   "name": "python",
   "nbconvert_exporter": "python",
   "pygments_lexer": "ipython3",
   "version": "3.8.3"
  }
 },
 "nbformat": 4,
 "nbformat_minor": 4
}
