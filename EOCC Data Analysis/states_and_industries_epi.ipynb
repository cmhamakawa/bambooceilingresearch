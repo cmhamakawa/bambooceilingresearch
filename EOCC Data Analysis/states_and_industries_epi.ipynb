{
 "cells": [
  {
   "cell_type": "markdown",
   "metadata": {},
   "source": [
    "# States and Industry EPI Information"
   ]
  },
  {
   "cell_type": "markdown",
   "metadata": {},
   "source": [
    "## 1. Webscraping Information and Creating Dataframe"
   ]
  },
  {
   "cell_type": "markdown",
   "metadata": {},
   "source": [
    "All the states [copy directly]:\n",
    "1. California\n",
    "2. Washington\n",
    "3. Texas\n",
    "4. Illinois\n",
    "5. New York\n",
    "\n",
    "\n",
    "Industry numbers [copy directly]:\n",
    "1. 54 (Professional, Scientific, and Technical Services)\n",
    "2. 62 (Healthcare and Social Assistance)\n",
    "3. 52 (Finance and Insurance)\n",
    "\n",
    "Industry vectors: \n",
    "1. [\"Professional, Scientific, and Technical Services\", \"Professional, Scientific, and Technical Services (54)\"]\n",
    "2. [\"Health Care and Social Assistance\", \"Health Care and Social Assistance (62)\"]\n",
    "3. [\"Finance and Insurance\", \"Finance and Insurance (52)\"]"
   ]
  },
  {
   "cell_type": "code",
   "execution_count": 1,
   "metadata": {},
   "outputs": [],
   "source": [
    "# Hardcoded Inputs\n",
    "industry_num = 54\n",
    "industry_vector = [\"Professional, Scientific, and Technical Services\", \"Professional, Scientific, and Technical Services (54)\"]\n",
    "state = \"New York\"\n",
    "start_year = 2009\n",
    "end_year = 2018\n",
    "\n",
    "# not inputs, but impacted by inputs\n",
    "years = list(range(start_year,end_year + 1))\n",
    "industry_folder_name = \"States and Industries EPI/\" + industry_vector[0] + \"_\" + str(industry_num)\n",
    "state_folder_name = state\n",
    "path_name = industry_folder_name + \"/\" + state_folder_name"
   ]
  },
  {
   "cell_type": "code",
   "execution_count": 2,
   "metadata": {},
   "outputs": [],
   "source": [
    "import pandas as pd\n",
    "import requests\n",
    "from bs4 import BeautifulSoup\n",
    "import numpy as np\n",
    "import os\n",
    "import shutil"
   ]
  },
  {
   "cell_type": "code",
   "execution_count": 3,
   "metadata": {},
   "outputs": [
    {
     "name": "stdout",
     "output_type": "stream",
     "text": [
      "Directory already exists. Let's remove all the files.\n"
     ]
    }
   ],
   "source": [
    "if os.path.isdir(industry_folder_name):\n",
    "    os.chdir(industry_folder_name)\n",
    "    if os.path.isdir(state_folder_name):\n",
    "        shutil.rmtree(state_folder_name)\n",
    "    os.makedirs(state_folder_name)\n",
    "    os.chdir(state_folder_name)\n",
    "    print(\"Directory already exists. Let's remove all the files.\")\n",
    "else:\n",
    "    os.makedirs(path_name)\n",
    "    os.chdir(path_name)\n",
    "    print(\"Directory does not exist. We then make new directory.\")"
   ]
  },
  {
   "cell_type": "code",
   "execution_count": 4,
   "metadata": {},
   "outputs": [],
   "source": [
    "from selenium.common.exceptions import TimeoutException, NoSuchElementException\n",
    "from selenium import webdriver\n",
    "from selenium.webdriver.common.action_chains import ActionChains\n",
    "from selenium.webdriver.common.keys import Keys\n",
    "from selenium.webdriver.support.ui import Select"
   ]
  },
  {
   "cell_type": "code",
   "execution_count": 5,
   "metadata": {},
   "outputs": [
    {
     "name": "stderr",
     "output_type": "stream",
     "text": [
      "[WDM] - \n",
      "\n",
      "[WDM] - ====== WebDriver manager ======\n",
      "[WDM] - Current google-chrome version is 114.0.5735\n",
      "[WDM] - Get LATEST driver version for 114.0.5735\n",
      "[WDM] - Driver [/Users/christinehamakawa/.wdm/drivers/chromedriver/mac64/114.0.5735.90/chromedriver] found in cache\n"
     ]
    }
   ],
   "source": [
    "from selenium.webdriver.chrome.service import Service\n",
    "from webdriver_manager.chrome import ChromeDriverManager\n",
    "from selenium.webdriver.common.by import By\n",
    "s=Service(ChromeDriverManager().install())"
   ]
  },
  {
   "cell_type": "code",
   "execution_count": 6,
   "metadata": {},
   "outputs": [],
   "source": [
    "def webscrape_df(year, state, industry_vector):\n",
    "    if year <= 2012:\n",
    "        industry = industry_vector[0]\n",
    "    else:\n",
    "        industry = industry_vector[1]\n",
    "    driver = webdriver.Chrome(service=s)\n",
    "    base_url = 'https://www.eeoc.gov/statistics/employment/jobpatterns/eeo1/'\n",
    "    url = base_url + str(year)\n",
    "    driver.get(url)\n",
    "    element_dropdown = driver.find_element_by_id(\"edit-scope\")\n",
    "    select = Select(element_dropdown)\n",
    "    # SELECTS OVERARCHING SECTION \n",
    "    dir(select)\n",
    "    try:\n",
    "        select.select_by_visible_text(\"States, by NAICS-2\")\n",
    "        driver.find_element_by_xpath('//*[(@id = \"edit-submit\")]').click()\n",
    "    except NoSuchElementException:\n",
    "        print('The item does not exist')\n",
    "    \n",
    "    # SELECTS STATE\n",
    "    element_dropdown1 = driver.find_element_by_id(\"edit-state\")\n",
    "    select = Select(element_dropdown1)\n",
    "    try:\n",
    "        select.select_by_visible_text(state) # needs to click by name -- think I can figure that out\n",
    "        driver.find_element_by_xpath('//*[(@id = \"edit-submit\")]').click() # clicks on state\n",
    "    except NoSuchElementException:\n",
    "        print('The item does not exist')\n",
    "    \n",
    "    # NAICS (make into function)\n",
    "    element_dropdown2 = driver.find_element_by_id(\"edit-naics\")\n",
    "    select = Select(element_dropdown2)\n",
    "    try:\n",
    "        select.select_by_visible_text(industry)\n",
    "        driver.find_element_by_xpath('//*[(@id = \"edit-submit\")]').click() # clicks on industry\n",
    "    except NoSuchElementException:\n",
    "        print('The item does not exist')\n",
    "\n",
    "    # read html of page we navigated to\n",
    "    html = driver.page_source\n",
    "    driver.close() # we'll close the browser for now\n",
    "    soup = BeautifulSoup(html, \"html.parser\")\n",
    "    html_headers = soup.find_all(scope=\"col\")\n",
    "    headers = [html_headers[i].get_text() for i in range(len(html_headers))]\n",
    "\n",
    "    # read ethnic groups from html & format for dataframe\n",
    "    html_ethnic_groups = soup.find_all(scope=\"rowgroup\")\n",
    "    ethnic_groups = [html_ethnic_groups[i].get_text() for i in range(len(html_ethnic_groups))]\n",
    "    ethnic_groups = np.repeat(ethnic_groups, 2)\n",
    "    # read gender groups from html & format for dataframe\n",
    "    html_gender_groups = soup.find_all(scope=\"row\")\n",
    "    gender_groups = [html_gender_groups[i].get_text() for i in range(len(html_gender_groups))]\n",
    "\n",
    "    # getting the numbers for the datframe\n",
    "    html_data = soup.find_all(\"tr\")\n",
    "    data = [\"\"]*len(ethnic_groups)\n",
    "    count = 0\n",
    "    for i in range(len(html_data)):\n",
    "        temp_data = html_data[i].find_all(\"td\")\n",
    "        if len(temp_data) != 0:\n",
    "            temp_list = [temp_data[i].get_text().replace(\",\",\"\") for i in range(len(temp_data))]\n",
    "            for j in range(len(temp_list)):\n",
    "                if len(temp_list[j]) == 0:\n",
    "                    temp_list[j] = 0\n",
    "                else:\n",
    "                    temp_list[j] = int(temp_list[j])\n",
    "            data[count] = temp_list\n",
    "            count +=1\n",
    "        \n",
    "    # combining everything into a dataframe\n",
    "    final_df = pd.DataFrame(data, columns = headers[1:])\n",
    "    final_df.index = ethnic_groups\n",
    "    final_df.index.name = headers[0]\n",
    "    \n",
    "    final_df.index.name = \"Racial/Ethnic_Group\"\n",
    "\n",
    "    final_df[\"entry_workers\"] = final_df.iloc[:,3:11].sum(axis=1)\n",
    "    # only need executives, managers, professionals, entry workers\n",
    "    final_df = final_df.drop(\n",
    "        columns=['Technicians',\n",
    "           'Sales Workers', 'Office & Clerical Workers', 'Craft Workers',\n",
    "           'Operatives', 'Laborers', 'Service Workers'],\n",
    "        axis = 1,\n",
    "    )\n",
    "    final_df = final_df.fillna(0)\n",
    "    \n",
    "    # non gender separated df\n",
    "    ethnic_df = final_df.groupby('Racial/Ethnic_Group')\n",
    "    ethnic_df = ethnic_df.sum()\n",
    "    totals = list(ethnic_df.sum(axis = 0, skipna = True))\n",
    "    col_names = list(ethnic_df.columns)\n",
    "    for i in range(len(ethnic_df.columns)):\n",
    "        ethnic_df[col_names[i]] = ethnic_df[col_names[i]] / totals[i]\n",
    "    ethnic_df['EPI'] = ethnic_df['Executive/Senior Level Officials & Managers'] / ethnic_df['Professionals']\n",
    "    ethnic_df['Managers_to_Execs'] = ethnic_df['Executive/Senior Level Officials & Managers'] / ethnic_df['First/Mid Level Officials & Managers']\n",
    "    ethnic_df['Professionals_to_Managers'] = ethnic_df['First/Mid Level Officials & Managers'] / ethnic_df['Professionals']\n",
    "    ethnic_df['EPI_ew'] = ethnic_df['Executive/Senior Level Officials & Managers'] / ethnic_df['entry_workers']\n",
    "    ethnic_df['parity_diff'] = ethnic_df['EPI'] - 1\n",
    "    print(year)\n",
    "    return ethnic_df"
   ]
  },
  {
   "cell_type": "markdown",
   "metadata": {},
   "source": [
    "This runs the webscraping algorithm for each year. It may take a few minutes to run."
   ]
  },
  {
   "cell_type": "code",
   "execution_count": null,
   "metadata": {},
   "outputs": [
    {
     "name": "stderr",
     "output_type": "stream",
     "text": [
      "<ipython-input-6-7955bf1dd4ff>:10: DeprecationWarning: find_element_by_* commands are deprecated. Please use find_element() instead\n",
      "  element_dropdown = driver.find_element_by_id(\"edit-scope\")\n",
      "<ipython-input-6-7955bf1dd4ff>:16: DeprecationWarning: find_element_by_* commands are deprecated. Please use find_element() instead\n",
      "  driver.find_element_by_xpath('//*[(@id = \"edit-submit\")]').click()\n",
      "<ipython-input-6-7955bf1dd4ff>:21: DeprecationWarning: find_element_by_* commands are deprecated. Please use find_element() instead\n",
      "  element_dropdown1 = driver.find_element_by_id(\"edit-state\")\n",
      "<ipython-input-6-7955bf1dd4ff>:25: DeprecationWarning: find_element_by_* commands are deprecated. Please use find_element() instead\n",
      "  driver.find_element_by_xpath('//*[(@id = \"edit-submit\")]').click() # clicks on state\n",
      "<ipython-input-6-7955bf1dd4ff>:30: DeprecationWarning: find_element_by_* commands are deprecated. Please use find_element() instead\n",
      "  element_dropdown2 = driver.find_element_by_id(\"edit-naics\")\n",
      "<ipython-input-6-7955bf1dd4ff>:34: DeprecationWarning: find_element_by_* commands are deprecated. Please use find_element() instead\n",
      "  driver.find_element_by_xpath('//*[(@id = \"edit-submit\")]').click() # clicks on industry\n"
     ]
    },
    {
     "name": "stdout",
     "output_type": "stream",
     "text": [
      "2009\n",
      "2010\n",
      "2011\n",
      "2012\n",
      "2013\n",
      "2014\n",
      "2015\n",
      "2016\n",
      "2017\n"
     ]
    }
   ],
   "source": [
    "# CREATING DATAFRAMES\n",
    "df_list =  [\"\"] * len(years)\n",
    "for i in range(len(years)):\n",
    "    df_list[i] = webscrape_df(years[i], state, industry_vector)"
   ]
  },
  {
   "cell_type": "code",
   "execution_count": null,
   "metadata": {},
   "outputs": [],
   "source": [
    "# the dataframe for the first year (default: 2009)\n",
    "df_list[0]"
   ]
  },
  {
   "cell_type": "markdown",
   "metadata": {},
   "source": [
    "## 2. Organizing and Reformatting Dataframes"
   ]
  },
  {
   "cell_type": "markdown",
   "metadata": {},
   "source": [
    "The EPI is defined as a ratio of the percentage representation of a company’s Executive workforce relative to that company’s percentage representation of itsentry-level Professional workforce. We use this metric and other related metrics to create the dataframes below.\n",
    "\n",
    "**epi_df**: dataframe with all the different EPI by year and racial group\n",
    "\n",
    "**parity_diff_df**: ratio of each group is expected to be 1. Contains all values of EPI except we subtract by 1.\n",
    "\n",
    "**exec_df**: contains the proportion of executives to managers (% of executives from that group / % of manager from that group)\n",
    "\n",
    "**manager_df**: contains the proportion of executives to managers (% of managers from that group / % of professionals from that group)\n",
    "\n",
    "**epi_ew_df**: dataframe with al the different EPI by year and racial group; uses entry workers instead of just professionals (% of executives from that group / % of entry workers from that group)\n",
    "\n",
    "**entry_df**: % of entry workers by group"
   ]
  },
  {
   "cell_type": "code",
   "execution_count": null,
   "metadata": {},
   "outputs": [],
   "source": [
    "# creating and.formatting dataframes\n",
    "year = years[0]\n",
    "\n",
    "epi_df = df_list[0]['EPI']\n",
    "epi_df = epi_df.rename(str(year))\n",
    "\n",
    "parity_diff_df = df_list[0]['parity_diff']\n",
    "parity_diff_df = parity_diff_df.rename(str(year))\n",
    "\n",
    "exec_df = df_list[0]['Managers_to_Execs']\n",
    "exec_df = exec_df.rename(str(year))\n",
    "\n",
    "managers_df =df_list[0]['Professionals_to_Managers']\n",
    "managers_df = managers_df.rename(str(year))\n",
    "\n",
    "epi_ew_df = df_list[0]['EPI_ew']\n",
    "epi_ew_df = epi_ew_df.rename(str(year))\n",
    "\n",
    "entry_df = df_list[0]['entry_workers']\n",
    "entry_df = entry_df.rename(str(year))\n",
    "\n",
    "for i in range(1,len(df_list)):\n",
    "    year+=1\n",
    "    temp1 = df_list[i]['parity_diff']\n",
    "    temp1 = temp1.rename(str(year))\n",
    "    parity_diff_df = pd.concat([parity_diff_df, temp1], axis = 1)\n",
    "    temp2 = df_list[i]['EPI']\n",
    "    temp2 = temp2.rename(str(year))\n",
    "    epi_df = pd.concat([epi_df, temp2], axis = 1)\n",
    "    temp3 = df_list[i]['Managers_to_Execs']\n",
    "    temp3 = temp3.rename(str(year))\n",
    "    exec_df = pd.concat([exec_df, temp3], axis = 1)\n",
    "    temp5 = df_list[i]['EPI_ew']\n",
    "    temp5 = temp5.rename(str(year))\n",
    "    epi_ew_df = pd.concat([epi_ew_df, temp5], axis = 1)\n",
    "    temp6 = df_list[i]['entry_workers']\n",
    "    temp6 = temp6.rename(str(year))\n",
    "    entry_df = pd.concat([entry_df, temp6], axis = 1)\n",
    "    temp7 = df_list[i]['Professionals_to_Managers']\n",
    "    temp7 = temp7.rename(str(year))\n",
    "    managers_df = pd.concat([managers_df, temp7], axis = 1)"
   ]
  },
  {
   "cell_type": "code",
   "execution_count": null,
   "metadata": {},
   "outputs": [],
   "source": [
    "# more formatting dataframes and removing some info\n",
    "drop_indices = ['AMERICAN INDIAN', 'HAWAIIAN', 'TWO OR MORE RACES']\n",
    "parity_diff_df.drop(\n",
    "    labels=drop_indices,\n",
    "    axis = 0,\n",
    "    inplace=True)\n",
    "epi_df.drop(\n",
    "    labels=drop_indices,\n",
    "    axis = 0,\n",
    "    inplace=True)\n",
    "exec_df.drop(\n",
    "    labels=drop_indices,\n",
    "    axis = 0,\n",
    "    inplace=True)\n",
    "epi_ew_df.drop(\n",
    "    labels=drop_indices,\n",
    "    axis = 0,\n",
    "    inplace=True)\n",
    "entry_df.drop(\n",
    "    labels=drop_indices,\n",
    "    axis = 0,\n",
    "    inplace=True)\n",
    "managers_df.drop(\n",
    "    labels=drop_indices,\n",
    "    axis = 0,\n",
    "    inplace=True)"
   ]
  },
  {
   "cell_type": "code",
   "execution_count": null,
   "metadata": {},
   "outputs": [],
   "source": [
    "# saves epi_df\n",
    "csv_title = state + \"_\" +  str(industry_num) + \"_epi.csv\"\n",
    "rounded_epi_df = epi_df.round(decimals=3)\n",
    "rounded_epi_df.to_csv(csv_title)"
   ]
  },
  {
   "cell_type": "code",
   "execution_count": null,
   "metadata": {},
   "outputs": [],
   "source": [
    "# save epi_df but transposed\n",
    "csv_title = state + \"_\" +  str(industry_num) + \"_epi_transpose.txt\"\n",
    "rounded_epi_df = epi_df.round(decimals=3)\n",
    "rounded_epi_df.transpose().to_csv(csv_title)"
   ]
  },
  {
   "cell_type": "code",
   "execution_count": null,
   "metadata": {},
   "outputs": [],
   "source": [
    "epi_df"
   ]
  },
  {
   "cell_type": "code",
   "execution_count": null,
   "metadata": {},
   "outputs": [],
   "source": [
    "df_list[1]"
   ]
  },
  {
   "cell_type": "markdown",
   "metadata": {},
   "source": [
    "## 3. Creating Visualizations"
   ]
  },
  {
   "cell_type": "code",
   "execution_count": null,
   "metadata": {},
   "outputs": [],
   "source": [
    "import matplotlib.pyplot as plt"
   ]
  },
  {
   "cell_type": "code",
   "execution_count": null,
   "metadata": {},
   "outputs": [],
   "source": [
    "# formatting for later plotting\n",
    "epi_df = epi_df.transpose()\n",
    "parity_diff_df = parity_diff_df.transpose()\n",
    "exec_df = exec_df.transpose()\n",
    "epi_ew_df = epi_ew_df.transpose()\n",
    "entry_df = entry_df.transpose()\n",
    "managers_df = managers_df.transpose()"
   ]
  },
  {
   "cell_type": "code",
   "execution_count": null,
   "metadata": {},
   "outputs": [],
   "source": [
    "epi_df.iloc[:,0]"
   ]
  },
  {
   "cell_type": "markdown",
   "metadata": {},
   "source": [
    "### EPI Graph"
   ]
  },
  {
   "cell_type": "code",
   "execution_count": null,
   "metadata": {},
   "outputs": [],
   "source": [
    "years = epi_df.index\n",
    "\n",
    "axes = plt.axes()\n",
    "axes.set_ylim([.2, 1.8])\n",
    "\n",
    "plt.plot(years, epi_df.iloc[:,0], linestyle=\"dashed\")\n",
    "plt.plot(years, epi_df.iloc[:,1], linestyle=\"dotted\")\n",
    "plt.plot(years, epi_df.iloc[:,2], linestyle=\"dashdot\")\n",
    "plt.plot(years, epi_df.iloc[:,3])\n",
    "columns = [\"Asian\", \"Black\", \"Hispanic\", \"White\"]\n",
    "plt.legend(labels = columns, fontsize=14, bbox_to_anchor=(1, 1))\n",
    "plt.xlabel('Year', fontsize=15)\n",
    "plt.ylabel('EPI', fontsize= 15)\n",
    "plt.xticks(fontsize = 13, rotation =25)\n",
    "plt.yticks(fontsize = 13)\n",
    "name = state+str(industry_num)+\"_EPI.png\"\n",
    "plt.savefig(name, bbox_inches = 'tight')\n",
    "plt.show()"
   ]
  },
  {
   "cell_type": "markdown",
   "metadata": {},
   "source": [
    "### Parity Graph"
   ]
  },
  {
   "cell_type": "markdown",
   "metadata": {},
   "source": [
    "The epi graph but subtract 1 so that 0 is the baseline/target"
   ]
  },
  {
   "cell_type": "code",
   "execution_count": null,
   "metadata": {},
   "outputs": [],
   "source": [
    "years = parity_diff_df.index\n",
    "\n",
    "axes = plt.axes()\n",
    "\n",
    "plt.plot(years, parity_diff_df.iloc[:,0], linestyle=\"dashed\")\n",
    "plt.plot(years, parity_diff_df.iloc[:,1], linestyle=\"dotted\")\n",
    "plt.plot(years, parity_diff_df.iloc[:,2], linestyle=\"dashdot\")\n",
    "plt.plot(years, parity_diff_df.iloc[:,3])\n",
    "columns = [\"Asian\", \"Black\", \"Hispanic\", \"White\"]\n",
    "plt.legend(labels = columns, fontsize=14, bbox_to_anchor=(1, 1))\n",
    "plt.xlabel('Year', fontsize=15)\n",
    "plt.ylabel('Ratio', fontsize= 15)\n",
    "plt.xticks(fontsize = 13, rotation =25)\n",
    "plt.yticks(fontsize = 13)\n",
    "plt.title('Parity Index by Ethnicity Group')\n",
    "name = state+str(industry_num)+\"_parity.png\"\n",
    "plt.savefig(name, bbox_inches = 'tight')\n",
    "plt.plot([0,9], [0, 0], '-', lw=1)\n",
    "plt.show()"
   ]
  },
  {
   "cell_type": "markdown",
   "metadata": {},
   "source": [
    "### Professional to Manager Parity Index by Racial Group"
   ]
  },
  {
   "cell_type": "code",
   "execution_count": null,
   "metadata": {},
   "outputs": [],
   "source": [
    "# graph of ethnicity breakdown for asian professionals to asian managers ratio throughout the years\n",
    "years = managers_df.index\n",
    "\n",
    "axes = plt.axes()\n",
    "\n",
    "plt.plot(years, managers_df.iloc[:,0], linestyle=\"dashed\")\n",
    "plt.plot(years, managers_df.iloc[:,1], linestyle=\"dotted\")\n",
    "plt.plot(years, managers_df.iloc[:,2], linestyle=\"dashdot\")\n",
    "plt.plot(years, managers_df.iloc[:,3])\n",
    "columns = [\"Asian\", \"Black\", \"Hispanic\", \"White\"]\n",
    "plt.legend(labels = columns, fontsize=14, bbox_to_anchor=(1, 1))\n",
    "plt.xlabel('Year', fontsize=15)\n",
    "plt.ylabel('Ratio', fontsize= 15)\n",
    "plt.xticks(fontsize = 13, rotation =25)\n",
    "plt.yticks(fontsize = 13)\n",
    "plt.title('Professional to Manager Parity Index by Ethnicity Group')\n",
    "name = state+str(industry_num)+\"_Managers.png\"\n",
    "plt.savefig(name, bbox_inches = 'tight')\n",
    "plt.show()"
   ]
  },
  {
   "cell_type": "markdown",
   "metadata": {},
   "source": [
    "### Managers to Executive Parity Index by Ethnicity Group"
   ]
  },
  {
   "cell_type": "code",
   "execution_count": null,
   "metadata": {},
   "outputs": [],
   "source": [
    "# graph of ethnicity breakdown for asian managers to asian executives ratio throughout the years\n",
    "years = exec_df.index\n",
    "\n",
    "axes = plt.axes()\n",
    "\n",
    "plt.plot(years, exec_df.iloc[:,0], linestyle=\"dashed\")\n",
    "plt.plot(years, exec_df.iloc[:,1], linestyle=\"dotted\")\n",
    "plt.plot(years, exec_df.iloc[:,2], linestyle=\"dashdot\")\n",
    "plt.plot(years, exec_df.iloc[:,3])\n",
    "columns = [\"Asian\", \"Black\", \"Hispanic\", \"White\"]\n",
    "plt.legend(labels = columns, fontsize=14, bbox_to_anchor=(1, 1))\n",
    "plt.xlabel('Year', fontsize=15)\n",
    "plt.ylabel('Ratio', fontsize= 15)\n",
    "plt.xticks(fontsize = 13, rotation =25)\n",
    "plt.yticks(fontsize = 13)\n",
    "plt.title('Managers to Executive Parity Index by Ethnicity Group')\n",
    "name = state+str(industry_num)+\"_Executives.png\"\n",
    "plt.savefig(name, bbox_inches = 'tight')\n",
    "plt.show()"
   ]
  },
  {
   "cell_type": "markdown",
   "metadata": {},
   "source": [
    "### Executive Parity Index by Ethnicity Group (Entry Level)\n",
    "- assumption before was professionals were lowest level\n",
    "- assumption here is that all other columns other than managers and execs are grouped in one level"
   ]
  },
  {
   "cell_type": "code",
   "execution_count": null,
   "metadata": {},
   "outputs": [],
   "source": [
    "# graph of ethnicity breakdown for asian professionals to asian managers ratio throughout the years\n",
    "years = epi_ew_df.index\n",
    "\n",
    "axes = plt.axes()\n",
    "\n",
    "plt.plot(years, epi_ew_df.iloc[:,0], linestyle=\"dashed\")\n",
    "plt.plot(years, epi_ew_df.iloc[:,1], linestyle=\"dotted\")\n",
    "plt.plot(years, epi_ew_df.iloc[:,2], linestyle=\"dashdot\")\n",
    "plt.plot(years, epi_ew_df.iloc[:,3])\n",
    "columns = [\"Asian\", \"Black\", \"Hispanic\", \"White\"]\n",
    "plt.legend(labels = columns, fontsize=14, bbox_to_anchor=(1, 1))\n",
    "plt.xlabel('Year', fontsize=15)\n",
    "plt.ylabel('Ratio', fontsize= 15)\n",
    "plt.xticks(fontsize = 13, rotation =25)\n",
    "plt.yticks(fontsize = 13)\n",
    "plt.title('Executive Parity Index by Ethnicity Group (Entry Level)')\n",
    "# won't save\n",
    "# name = state+str(industry_num)+\"_epi_ew.png\" # ew is for entry workers\n",
    "# plt.savefig(name, bbox_inches = 'tight')\n",
    "plt.show()"
   ]
  },
  {
   "cell_type": "markdown",
   "metadata": {},
   "source": [
    "### Entry Level Ratio by Ethnicity Group (Entry Level)"
   ]
  },
  {
   "cell_type": "code",
   "execution_count": null,
   "metadata": {},
   "outputs": [],
   "source": [
    "# graph of ethnicity breakdown for asian professionals to asian managers ratio throughout the years\n",
    "years = entry_df.index\n",
    "\n",
    "axes = plt.axes()\n",
    "\n",
    "plt.plot(years, entry_df.iloc[:,0], linestyle=\"dashed\")\n",
    "plt.plot(years, entry_df.iloc[:,1], linestyle=\"dotted\")\n",
    "plt.plot(years, entry_df.iloc[:,2], linestyle=\"dashdot\")\n",
    "plt.plot(years, entry_df.iloc[:,3])\n",
    "columns = [\"Asian\", \"Black\", \"Hispanic\", \"White\"]\n",
    "plt.legend(labels = columns, fontsize=14, bbox_to_anchor=(1, 1))\n",
    "plt.xlabel('Year', fontsize=15)\n",
    "plt.ylabel('Ratio', fontsize= 15)\n",
    "plt.xticks(fontsize = 13, rotation =25)\n",
    "plt.yticks(fontsize = 13)\n",
    "plt.title('Entry Level Ratio by Ethnicity Group (Entry Level)')\n",
    "# won't save\n",
    "# name = state+str(industry_num)+\"_entry.png\" # ew is for entry workers\n",
    "# plt.savefig(name, bbox_inches = 'tight')\n",
    "plt.show()"
   ]
  },
  {
   "cell_type": "markdown",
   "metadata": {},
   "source": [
    "## 4. Data Analysis (Tests for Significance)"
   ]
  },
  {
   "cell_type": "code",
   "execution_count": null,
   "metadata": {},
   "outputs": [],
   "source": [
    "# Welch's t test (variances not equal, sample size less than 10)\n",
    "import scipy\n",
    "from scipy import stats\n",
    "white_epi = epi_df[\"WHITE\"]\n",
    "asian_epi = epi_df[\"ASIAN\"]\n",
    "hispanic_epi = epi_df[\"HISPANIC\"]\n",
    "black_epi = epi_df[\"BLACK\"]\n",
    "\n",
    "black_test = scipy.stats.ttest_ind(a=black_epi, b=asian_epi, equal_var=False, alternative = 'greater')\n",
    "hispanic_test = scipy.stats.ttest_ind(a=hispanic_epi, b=asian_epi, equal_var=False, alternative = 'greater')\n",
    "white_test = scipy.stats.ttest_ind(a=white_epi, b=asian_epi, equal_var=False, alternative = 'greater')\n",
    "t_statistic = np.array([black_test[0], hispanic_test[0], white_test[0]])\n",
    "p_value = np.array([black_test[1], hispanic_test[1], white_test[1]])\n",
    "t_test_df = pd.DataFrame({'t-statistic': t_statistic, 'p-value': p_value}, columns=['t-statistic', 'p-value'], index = [\"Black\", \"Hispanic\", \"White\"])\n",
    "new_name = state+\"_\"+str(industry_num) + \"_ttest.png\"\n",
    "t_test_df = t_test_df.round(3) # rounding values for visual purposes\n",
    "\n",
    "t_test_df.reset_index(inplace=True)\n",
    "t_test_df = t_test_df.rename(columns = {'index':'race'})\n",
    "\n",
    "\n",
    "import dataframe_image as dfi \n",
    "dfi.export(t_test_df, new_name)\n",
    "\n",
    "csv_name = state+\"_\"+str(industry_num) + \"_ttest.csv\"\n",
    "t_test_df.to_csv(csv_name)"
   ]
  },
  {
   "cell_type": "code",
   "execution_count": null,
   "metadata": {},
   "outputs": [],
   "source": [
    "t_test_df"
   ]
  }
 ],
 "metadata": {
  "kernelspec": {
   "display_name": "Python 3",
   "language": "python",
   "name": "python3"
  },
  "language_info": {
   "codemirror_mode": {
    "name": "ipython",
    "version": 3
   },
   "file_extension": ".py",
   "mimetype": "text/x-python",
   "name": "python",
   "nbconvert_exporter": "python",
   "pygments_lexer": "ipython3",
   "version": "3.8.3"
  }
 },
 "nbformat": 4,
 "nbformat_minor": 4
}
