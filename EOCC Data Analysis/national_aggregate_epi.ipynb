{
 "cells": [
  {
   "cell_type": "markdown",
   "metadata": {},
   "source": [
    "# National Aggregate EPI Information"
   ]
  },
  {
   "cell_type": "markdown",
   "metadata": {},
   "source": [
    "## 1. Webscraping Information and Creating Dataframe"
   ]
  },
  {
   "cell_type": "code",
   "execution_count": 1,
   "metadata": {},
   "outputs": [],
   "source": [
    "import pandas as pd\n",
    "import requests\n",
    "from bs4 import BeautifulSoup\n",
    "import numpy as np\n",
    "import os\n",
    "import shutil"
   ]
  },
  {
   "cell_type": "code",
   "execution_count": 2,
   "metadata": {},
   "outputs": [],
   "source": [
    "# Inputs\n",
    "industry_vector = \"National Aggregate\"\n",
    "start_year = 2009\n",
    "end_year = 2018\n",
    "\n",
    "# not inputs, but impacted by inputs\n",
    "years = list(range(start_year,end_year + 1))\n",
    "industry_folder_name = \"National Aggregate EPI\"\n",
    "state = \"national_aggregate\"\n",
    "path_name = industry_folder_name"
   ]
  },
  {
   "cell_type": "code",
   "execution_count": 3,
   "metadata": {},
   "outputs": [
    {
     "name": "stdout",
     "output_type": "stream",
     "text": [
      "Directory already exists. Let's remove all the files.\n"
     ]
    }
   ],
   "source": [
    "if os.path.isdir(path_name):\n",
    "    shutil.rmtree(path_name)\n",
    "    os.makedirs(path_name)\n",
    "    os.chdir(path_name)\n",
    "    print(\"Directory already exists. Let's remove all the files.\")\n",
    "else:\n",
    "    os.makedirs(path_name)\n",
    "    os.chdir(path_name)\n",
    "    print(\"Directory does not exist. We then make new directory.\")"
   ]
  },
  {
   "cell_type": "code",
   "execution_count": 4,
   "metadata": {},
   "outputs": [],
   "source": [
    "from selenium.common.exceptions import TimeoutException, NoSuchElementException\n",
    "from selenium import webdriver\n",
    "from selenium.webdriver.common.action_chains import ActionChains\n",
    "from selenium.webdriver.common.keys import Keys\n",
    "from selenium.webdriver.support.ui import Select"
   ]
  },
  {
   "cell_type": "code",
   "execution_count": 5,
   "metadata": {},
   "outputs": [
    {
     "name": "stderr",
     "output_type": "stream",
     "text": [
      "[WDM] - \n",
      "\n",
      "[WDM] - ====== WebDriver manager ======\n",
      "[WDM] - Current google-chrome version is 114.0.5735\n",
      "[WDM] - Get LATEST driver version for 114.0.5735\n",
      "[WDM] - Driver [/Users/christinehamakawa/.wdm/drivers/chromedriver/mac64/114.0.5735.90/chromedriver] found in cache\n"
     ]
    }
   ],
   "source": [
    "from selenium.webdriver.chrome.service import Service\n",
    "from webdriver_manager.chrome import ChromeDriverManager\n",
    "from selenium.webdriver.common.by import By\n",
    "s=Service(ChromeDriverManager().install())"
   ]
  },
  {
   "cell_type": "code",
   "execution_count": 6,
   "metadata": {},
   "outputs": [],
   "source": [
    "def webscrape_df(year, state, industry_vector):\n",
    "    driver = webdriver.Chrome(service=s)\n",
    "    base_url = 'https://www.eeoc.gov/statistics/employment/jobpatterns/eeo1/'\n",
    "    url = base_url + str(year)\n",
    "    driver.get(url)\n",
    "    element_dropdown = driver.find_element_by_id(\"edit-scope\")\n",
    "    select = Select(element_dropdown)\n",
    "    # SELECTS OVERARCHING SECTION \n",
    "    dir(select)\n",
    "    try:\n",
    "        select.select_by_visible_text(\"National Aggregate, All Industries\")\n",
    "        driver.find_element_by_xpath('//*[(@id = \"edit-submit\")]').click()\n",
    "    except NoSuchElementException:\n",
    "        print('The item does not exist')\n",
    "\n",
    "    # read html of page we navigated to\n",
    "    html = driver.page_source\n",
    "    driver.close() # we'll close the browser for now\n",
    "    soup = BeautifulSoup(html, \"html.parser\")\n",
    "    html_headers = soup.find_all(scope=\"col\")\n",
    "    headers = [html_headers[i].get_text() for i in range(len(html_headers))]\n",
    "\n",
    "    # read ethnic groups from html & format for dataframe\n",
    "    html_ethnic_groups = soup.find_all(scope=\"rowgroup\")\n",
    "    ethnic_groups = [html_ethnic_groups[i].get_text() for i in range(len(html_ethnic_groups))]\n",
    "    ethnic_groups = np.repeat(ethnic_groups, 2)\n",
    "    # read gender groups from html & format for dataframe\n",
    "    html_gender_groups = soup.find_all(scope=\"row\")\n",
    "    gender_groups = [html_gender_groups[i].get_text() for i in range(len(html_gender_groups))]\n",
    "\n",
    "    # getting the numbers for the dataframe\n",
    "    html_data = soup.find_all(\"tr\")\n",
    "    data = [\"\"]*len(ethnic_groups)\n",
    "    count = 0\n",
    "    for i in range(len(html_data)):\n",
    "        temp_data = html_data[i].find_all(\"td\")\n",
    "        if len(temp_data) != 0:\n",
    "            temp_list = [temp_data[i].get_text().replace(\",\",\"\") for i in range(len(temp_data))]\n",
    "            for j in range(len(temp_list)):\n",
    "                if len(temp_list[j]) == 0:\n",
    "                    temp_list[j] = 0\n",
    "                else:\n",
    "                    temp_list[j] = int(temp_list[j])\n",
    "            data[count] = temp_list\n",
    "            count +=1\n",
    "        \n",
    "    # combining everything into a dataframe\n",
    "    final_df = pd.DataFrame(data, columns = headers[1:])\n",
    "    final_df.index = ethnic_groups\n",
    "    final_df.index.name = headers[0]\n",
    "    \n",
    "    final_df.index.name = \"Racial/Ethnic_Group\"\n",
    "\n",
    "    final_df[\"entry_workers\"] = final_df.iloc[:,3:11].sum(axis=1)\n",
    "    # only need executives, managers, professionals, entry workers\n",
    "    final_df = final_df.drop(\n",
    "        columns=['Technicians',\n",
    "           'Sales Workers', 'Office & Clerical Workers', 'Craft Workers',\n",
    "           'Operatives', 'Laborers', 'Service Workers'],\n",
    "        axis = 1,\n",
    "    )\n",
    "    final_df = final_df.fillna(0)\n",
    "    \n",
    "    # non gender separated df\n",
    "    ethnic_df = final_df.groupby('Racial/Ethnic_Group')\n",
    "    ethnic_df = ethnic_df.sum()\n",
    "    totals = list(ethnic_df.sum(axis = 0, skipna = True))\n",
    "    col_names = list(ethnic_df.columns)\n",
    "    for i in range(len(ethnic_df.columns)):\n",
    "        ethnic_df[col_names[i]] = ethnic_df[col_names[i]] / totals[i]\n",
    "    ethnic_df['EPI'] = ethnic_df['Executive/Senior Level Officials & Managers'] / ethnic_df['Professionals']\n",
    "    ethnic_df['Managers_to_Execs'] = ethnic_df['Executive/Senior Level Officials & Managers'] / ethnic_df['First/Mid Level Officials & Managers']\n",
    "    ethnic_df['Professionals_to_Managers'] = ethnic_df['First/Mid Level Officials & Managers'] / ethnic_df['Professionals']\n",
    "    ethnic_df['EPI_ew'] = ethnic_df['Executive/Senior Level Officials & Managers'] / ethnic_df['entry_workers']\n",
    "    ethnic_df['parity_diff'] = ethnic_df['EPI'] - 1\n",
    "    print(year)\n",
    "    return ethnic_df"
   ]
  },
  {
   "cell_type": "markdown",
   "metadata": {},
   "source": [
    "This runs the webscraping algorithm for each year. It may take a few minutes to run."
   ]
  },
  {
   "cell_type": "code",
   "execution_count": 7,
   "metadata": {},
   "outputs": [
    {
     "name": "stderr",
     "output_type": "stream",
     "text": [
      "<ipython-input-6-b605390e4b32>:6: DeprecationWarning: find_element_by_* commands are deprecated. Please use find_element() instead\n",
      "  element_dropdown = driver.find_element_by_id(\"edit-scope\")\n",
      "<ipython-input-6-b605390e4b32>:12: DeprecationWarning: find_element_by_* commands are deprecated. Please use find_element() instead\n",
      "  driver.find_element_by_xpath('//*[(@id = \"edit-submit\")]').click()\n"
     ]
    },
    {
     "name": "stdout",
     "output_type": "stream",
     "text": [
      "2009\n",
      "2010\n",
      "2011\n",
      "2012\n",
      "2013\n",
      "2014\n",
      "2015\n",
      "2016\n",
      "2017\n",
      "2018\n"
     ]
    }
   ],
   "source": [
    "# CREATING DATAFRAMES\n",
    "df_list =  [\"\"] * len(years)\n",
    "for i in range(len(years)):\n",
    "    df_list[i] = webscrape_df(years[i], state, industry_vector)"
   ]
  },
  {
   "cell_type": "code",
   "execution_count": 8,
   "metadata": {},
   "outputs": [
    {
     "data": {
      "text/html": [
       "<div>\n",
       "<style scoped>\n",
       "    .dataframe tbody tr th:only-of-type {\n",
       "        vertical-align: middle;\n",
       "    }\n",
       "\n",
       "    .dataframe tbody tr th {\n",
       "        vertical-align: top;\n",
       "    }\n",
       "\n",
       "    .dataframe thead th {\n",
       "        text-align: right;\n",
       "    }\n",
       "</style>\n",
       "<table border=\"1\" class=\"dataframe\">\n",
       "  <thead>\n",
       "    <tr style=\"text-align: right;\">\n",
       "      <th></th>\n",
       "      <th>Executive/Senior Level Officials &amp; Managers</th>\n",
       "      <th>First/Mid Level Officials &amp; Managers</th>\n",
       "      <th>Professionals</th>\n",
       "      <th>entry_workers</th>\n",
       "      <th>EPI</th>\n",
       "      <th>Managers_to_Execs</th>\n",
       "      <th>Professionals_to_Managers</th>\n",
       "      <th>EPI_ew</th>\n",
       "      <th>parity_diff</th>\n",
       "    </tr>\n",
       "    <tr>\n",
       "      <th>Racial/Ethnic_Group</th>\n",
       "      <th></th>\n",
       "      <th></th>\n",
       "      <th></th>\n",
       "      <th></th>\n",
       "      <th></th>\n",
       "      <th></th>\n",
       "      <th></th>\n",
       "      <th></th>\n",
       "      <th></th>\n",
       "    </tr>\n",
       "  </thead>\n",
       "  <tbody>\n",
       "    <tr>\n",
       "      <th>AMERICAN INDIAN</th>\n",
       "      <td>0.002912</td>\n",
       "      <td>0.004010</td>\n",
       "      <td>0.003756</td>\n",
       "      <td>0.006231</td>\n",
       "      <td>0.775136</td>\n",
       "      <td>0.726131</td>\n",
       "      <td>1.067488</td>\n",
       "      <td>0.467269</td>\n",
       "      <td>-0.224864</td>\n",
       "    </tr>\n",
       "    <tr>\n",
       "      <th>ASIAN</th>\n",
       "      <td>0.040202</td>\n",
       "      <td>0.049099</td>\n",
       "      <td>0.105760</td>\n",
       "      <td>0.040924</td>\n",
       "      <td>0.380123</td>\n",
       "      <td>0.818791</td>\n",
       "      <td>0.464249</td>\n",
       "      <td>0.982348</td>\n",
       "      <td>-0.619877</td>\n",
       "    </tr>\n",
       "    <tr>\n",
       "      <th>BLACK</th>\n",
       "      <td>0.030431</td>\n",
       "      <td>0.070610</td>\n",
       "      <td>0.076033</td>\n",
       "      <td>0.165941</td>\n",
       "      <td>0.400239</td>\n",
       "      <td>0.430976</td>\n",
       "      <td>0.928681</td>\n",
       "      <td>0.183386</td>\n",
       "      <td>-0.599761</td>\n",
       "    </tr>\n",
       "    <tr>\n",
       "      <th>HAWAIIAN</th>\n",
       "      <td>0.001710</td>\n",
       "      <td>0.002170</td>\n",
       "      <td>0.003222</td>\n",
       "      <td>0.003917</td>\n",
       "      <td>0.530830</td>\n",
       "      <td>0.788346</td>\n",
       "      <td>0.673347</td>\n",
       "      <td>0.436679</td>\n",
       "      <td>-0.469170</td>\n",
       "    </tr>\n",
       "    <tr>\n",
       "      <th>HISPANIC</th>\n",
       "      <td>0.034913</td>\n",
       "      <td>0.067471</td>\n",
       "      <td>0.050079</td>\n",
       "      <td>0.165698</td>\n",
       "      <td>0.697152</td>\n",
       "      <td>0.517447</td>\n",
       "      <td>1.347291</td>\n",
       "      <td>0.210700</td>\n",
       "      <td>-0.302848</td>\n",
       "    </tr>\n",
       "    <tr>\n",
       "      <th>TWO OR MORE RACES</th>\n",
       "      <td>0.004160</td>\n",
       "      <td>0.005039</td>\n",
       "      <td>0.006464</td>\n",
       "      <td>0.008726</td>\n",
       "      <td>0.643558</td>\n",
       "      <td>0.825548</td>\n",
       "      <td>0.779552</td>\n",
       "      <td>0.476752</td>\n",
       "      <td>-0.356442</td>\n",
       "    </tr>\n",
       "    <tr>\n",
       "      <th>WHITE</th>\n",
       "      <td>0.885672</td>\n",
       "      <td>0.801602</td>\n",
       "      <td>0.754686</td>\n",
       "      <td>0.608563</td>\n",
       "      <td>1.173564</td>\n",
       "      <td>1.104879</td>\n",
       "      <td>1.062166</td>\n",
       "      <td>1.455351</td>\n",
       "      <td>0.173564</td>\n",
       "    </tr>\n",
       "  </tbody>\n",
       "</table>\n",
       "</div>"
      ],
      "text/plain": [
       "                     Executive/Senior Level Officials & Managers  \\\n",
       "Racial/Ethnic_Group                                                \n",
       "AMERICAN INDIAN                                         0.002912   \n",
       "ASIAN                                                   0.040202   \n",
       "BLACK                                                   0.030431   \n",
       "HAWAIIAN                                                0.001710   \n",
       "HISPANIC                                                0.034913   \n",
       "TWO OR MORE RACES                                       0.004160   \n",
       "WHITE                                                   0.885672   \n",
       "\n",
       "                     First/Mid Level Officials & Managers  Professionals  \\\n",
       "Racial/Ethnic_Group                                                        \n",
       "AMERICAN INDIAN                                  0.004010       0.003756   \n",
       "ASIAN                                            0.049099       0.105760   \n",
       "BLACK                                            0.070610       0.076033   \n",
       "HAWAIIAN                                         0.002170       0.003222   \n",
       "HISPANIC                                         0.067471       0.050079   \n",
       "TWO OR MORE RACES                                0.005039       0.006464   \n",
       "WHITE                                            0.801602       0.754686   \n",
       "\n",
       "                     entry_workers       EPI  Managers_to_Execs  \\\n",
       "Racial/Ethnic_Group                                               \n",
       "AMERICAN INDIAN           0.006231  0.775136           0.726131   \n",
       "ASIAN                     0.040924  0.380123           0.818791   \n",
       "BLACK                     0.165941  0.400239           0.430976   \n",
       "HAWAIIAN                  0.003917  0.530830           0.788346   \n",
       "HISPANIC                  0.165698  0.697152           0.517447   \n",
       "TWO OR MORE RACES         0.008726  0.643558           0.825548   \n",
       "WHITE                     0.608563  1.173564           1.104879   \n",
       "\n",
       "                     Professionals_to_Managers    EPI_ew  parity_diff  \n",
       "Racial/Ethnic_Group                                                    \n",
       "AMERICAN INDIAN                       1.067488  0.467269    -0.224864  \n",
       "ASIAN                                 0.464249  0.982348    -0.619877  \n",
       "BLACK                                 0.928681  0.183386    -0.599761  \n",
       "HAWAIIAN                              0.673347  0.436679    -0.469170  \n",
       "HISPANIC                              1.347291  0.210700    -0.302848  \n",
       "TWO OR MORE RACES                     0.779552  0.476752    -0.356442  \n",
       "WHITE                                 1.062166  1.455351     0.173564  "
      ]
     },
     "execution_count": 8,
     "metadata": {},
     "output_type": "execute_result"
    }
   ],
   "source": [
    "# the dataframe for the first year (default: 2009)\n",
    "df_list[0]"
   ]
  },
  {
   "cell_type": "markdown",
   "metadata": {},
   "source": [
    "## 2. Organizing and Reformatting Dataframes"
   ]
  },
  {
   "cell_type": "markdown",
   "metadata": {},
   "source": [
    "The EPI is defined as a ratio of the percentage representation of a company’s Executive workforce relative to that company’s percentage representation of itsentry-level Professional workforce. We use this metric and other related metrics to create the dataframes below.\n",
    "\n",
    "**epi_df**: dataframe with all the different EPI by year and racial group\n",
    "\n",
    "**parity_diff_df**: ratio of each group is expected to be 1. Contains all values of EPI except we subtract by 1.\n",
    "\n",
    "**exec_df**: contains the proportion of executives to managers (% of executives from that group / % of manager from that group)\n",
    "\n",
    "**manager_df**: contains the proportion of executives to managers (% of managers from that group / % of professionals from that group)\n",
    "\n",
    "**epi_ew_df**: dataframe with al the different EPI by year and racial group; uses entry workers instead of just professionals (% of executives from that group / % of entry workers from that group)\n",
    "\n",
    "**entry_df**: % of entry workers by group"
   ]
  },
  {
   "cell_type": "code",
   "execution_count": 9,
   "metadata": {},
   "outputs": [],
   "source": [
    "# creating and.formatting dataframes\n",
    "year = years[0]\n",
    "\n",
    "epi_df = df_list[0]['EPI']\n",
    "epi_df = epi_df.rename(str(year))\n",
    "\n",
    "parity_diff_df = df_list[0]['parity_diff']\n",
    "parity_diff_df = parity_diff_df.rename(str(year))\n",
    "\n",
    "exec_df = df_list[0]['Managers_to_Execs']\n",
    "exec_df = exec_df.rename(str(year))\n",
    "\n",
    "managers_df =df_list[0]['Professionals_to_Managers']\n",
    "managers_df = managers_df.rename(str(year))\n",
    "\n",
    "epi_ew_df = df_list[0]['EPI_ew']\n",
    "epi_ew_df = epi_ew_df.rename(str(year))\n",
    "\n",
    "entry_df = df_list[0]['entry_workers']\n",
    "entry_df = entry_df.rename(str(year))\n",
    "\n",
    "for i in range(1,len(df_list)):\n",
    "    year+=1\n",
    "    temp1 = df_list[i]['parity_diff']\n",
    "    temp1 = temp1.rename(str(year))\n",
    "    parity_diff_df = pd.concat([parity_diff_df, temp1], axis = 1)\n",
    "    temp2 = df_list[i]['EPI']\n",
    "    temp2 = temp2.rename(str(year))\n",
    "    epi_df = pd.concat([epi_df, temp2], axis = 1)\n",
    "    temp3 = df_list[i]['Managers_to_Execs']\n",
    "    temp3 = temp3.rename(str(year))\n",
    "    exec_df = pd.concat([exec_df, temp3], axis = 1)\n",
    "    temp5 = df_list[i]['EPI_ew']\n",
    "    temp5 = temp5.rename(str(year))\n",
    "    epi_ew_df = pd.concat([epi_ew_df, temp5], axis = 1)\n",
    "    temp6 = df_list[i]['entry_workers']\n",
    "    temp6 = temp6.rename(str(year))\n",
    "    entry_df = pd.concat([entry_df, temp6], axis = 1)\n",
    "    temp7 = df_list[i]['Professionals_to_Managers']\n",
    "    temp7 = temp7.rename(str(year))\n",
    "    managers_df = pd.concat([managers_df, temp7], axis = 1)\n",
    "    "
   ]
  },
  {
   "cell_type": "code",
   "execution_count": 10,
   "metadata": {},
   "outputs": [],
   "source": [
    "# more formatting dataframes and removing some info\n",
    "drop_indices = ['AMERICAN INDIAN', 'HAWAIIAN', 'TWO OR MORE RACES']\n",
    "parity_diff_df.drop(\n",
    "    labels=drop_indices,\n",
    "    axis = 0,\n",
    "    inplace=True)\n",
    "epi_df.drop(\n",
    "    labels=drop_indices,\n",
    "    axis = 0,\n",
    "    inplace=True)\n",
    "exec_df.drop(\n",
    "    labels=drop_indices,\n",
    "    axis = 0,\n",
    "    inplace=True)\n",
    "epi_ew_df.drop(\n",
    "    labels=drop_indices,\n",
    "    axis = 0,\n",
    "    inplace=True)\n",
    "entry_df.drop(\n",
    "    labels=drop_indices,\n",
    "    axis = 0,\n",
    "    inplace=True)\n",
    "managers_df.drop(\n",
    "    labels=drop_indices,\n",
    "    axis = 0,\n",
    "    inplace=True)"
   ]
  },
  {
   "cell_type": "code",
   "execution_count": 11,
   "metadata": {},
   "outputs": [],
   "source": [
    "# saves epi_df\n",
    "csv_title = state + \"_epi.csv\"\n",
    "rounded_epi_df = epi_df.round(decimals=3)\n",
    "rounded_epi_df.to_csv(csv_title)"
   ]
  },
  {
   "cell_type": "code",
   "execution_count": 12,
   "metadata": {},
   "outputs": [],
   "source": [
    "# save epi_df but transposed\n",
    "csv_title = state + \"_epi_transpose.txt\"\n",
    "rounded_epi_df = epi_df.round(decimals=3)\n",
    "rounded_epi_df.transpose().to_csv(csv_title)"
   ]
  },
  {
   "cell_type": "code",
   "execution_count": 13,
   "metadata": {},
   "outputs": [
    {
     "data": {
      "text/html": [
       "<div>\n",
       "<style scoped>\n",
       "    .dataframe tbody tr th:only-of-type {\n",
       "        vertical-align: middle;\n",
       "    }\n",
       "\n",
       "    .dataframe tbody tr th {\n",
       "        vertical-align: top;\n",
       "    }\n",
       "\n",
       "    .dataframe thead th {\n",
       "        text-align: right;\n",
       "    }\n",
       "</style>\n",
       "<table border=\"1\" class=\"dataframe\">\n",
       "  <thead>\n",
       "    <tr style=\"text-align: right;\">\n",
       "      <th></th>\n",
       "      <th>2009</th>\n",
       "      <th>2010</th>\n",
       "      <th>2011</th>\n",
       "      <th>2012</th>\n",
       "      <th>2013</th>\n",
       "      <th>2014</th>\n",
       "      <th>2015</th>\n",
       "      <th>2016</th>\n",
       "      <th>2017</th>\n",
       "      <th>2018</th>\n",
       "    </tr>\n",
       "    <tr>\n",
       "      <th>Racial/Ethnic_Group</th>\n",
       "      <th></th>\n",
       "      <th></th>\n",
       "      <th></th>\n",
       "      <th></th>\n",
       "      <th></th>\n",
       "      <th></th>\n",
       "      <th></th>\n",
       "      <th></th>\n",
       "      <th></th>\n",
       "      <th></th>\n",
       "    </tr>\n",
       "  </thead>\n",
       "  <tbody>\n",
       "    <tr>\n",
       "      <th>ASIAN</th>\n",
       "      <td>0.380123</td>\n",
       "      <td>0.385280</td>\n",
       "      <td>0.382965</td>\n",
       "      <td>0.375068</td>\n",
       "      <td>0.397739</td>\n",
       "      <td>0.415224</td>\n",
       "      <td>0.415891</td>\n",
       "      <td>0.486593</td>\n",
       "      <td>0.449300</td>\n",
       "      <td>0.474603</td>\n",
       "    </tr>\n",
       "    <tr>\n",
       "      <th>BLACK</th>\n",
       "      <td>0.400239</td>\n",
       "      <td>0.409576</td>\n",
       "      <td>0.391145</td>\n",
       "      <td>0.391690</td>\n",
       "      <td>0.384262</td>\n",
       "      <td>0.409891</td>\n",
       "      <td>0.409704</td>\n",
       "      <td>0.406226</td>\n",
       "      <td>0.402559</td>\n",
       "      <td>0.408769</td>\n",
       "    </tr>\n",
       "    <tr>\n",
       "      <th>HISPANIC</th>\n",
       "      <td>0.697152</td>\n",
       "      <td>0.731635</td>\n",
       "      <td>0.691933</td>\n",
       "      <td>0.675089</td>\n",
       "      <td>0.654502</td>\n",
       "      <td>0.668961</td>\n",
       "      <td>0.756372</td>\n",
       "      <td>0.711341</td>\n",
       "      <td>0.658749</td>\n",
       "      <td>0.641779</td>\n",
       "    </tr>\n",
       "    <tr>\n",
       "      <th>WHITE</th>\n",
       "      <td>1.173564</td>\n",
       "      <td>1.171839</td>\n",
       "      <td>1.181869</td>\n",
       "      <td>1.188545</td>\n",
       "      <td>1.193509</td>\n",
       "      <td>1.193115</td>\n",
       "      <td>1.191917</td>\n",
       "      <td>1.191503</td>\n",
       "      <td>1.215939</td>\n",
       "      <td>1.225746</td>\n",
       "    </tr>\n",
       "  </tbody>\n",
       "</table>\n",
       "</div>"
      ],
      "text/plain": [
       "                         2009      2010      2011      2012      2013  \\\n",
       "Racial/Ethnic_Group                                                     \n",
       "ASIAN                0.380123  0.385280  0.382965  0.375068  0.397739   \n",
       "BLACK                0.400239  0.409576  0.391145  0.391690  0.384262   \n",
       "HISPANIC             0.697152  0.731635  0.691933  0.675089  0.654502   \n",
       "WHITE                1.173564  1.171839  1.181869  1.188545  1.193509   \n",
       "\n",
       "                         2014      2015      2016      2017      2018  \n",
       "Racial/Ethnic_Group                                                    \n",
       "ASIAN                0.415224  0.415891  0.486593  0.449300  0.474603  \n",
       "BLACK                0.409891  0.409704  0.406226  0.402559  0.408769  \n",
       "HISPANIC             0.668961  0.756372  0.711341  0.658749  0.641779  \n",
       "WHITE                1.193115  1.191917  1.191503  1.215939  1.225746  "
      ]
     },
     "execution_count": 13,
     "metadata": {},
     "output_type": "execute_result"
    }
   ],
   "source": [
    "epi_df"
   ]
  },
  {
   "cell_type": "markdown",
   "metadata": {},
   "source": [
    "## 3. Creating Visualizations"
   ]
  },
  {
   "cell_type": "code",
   "execution_count": 14,
   "metadata": {},
   "outputs": [],
   "source": [
    "import matplotlib.pyplot as plt"
   ]
  },
  {
   "cell_type": "code",
   "execution_count": 15,
   "metadata": {},
   "outputs": [],
   "source": [
    "# formatting for later plotting\n",
    "epi_df = epi_df.transpose()\n",
    "parity_diff_df = parity_diff_df.transpose()\n",
    "exec_df = exec_df.transpose()\n",
    "epi_ew_df = epi_ew_df.transpose()\n",
    "entry_df = entry_df.transpose()\n",
    "managers_df = managers_df.transpose()"
   ]
  },
  {
   "cell_type": "code",
   "execution_count": 16,
   "metadata": {},
   "outputs": [
    {
     "data": {
      "text/plain": [
       "2009    0.380123\n",
       "2010    0.385280\n",
       "2011    0.382965\n",
       "2012    0.375068\n",
       "2013    0.397739\n",
       "2014    0.415224\n",
       "2015    0.415891\n",
       "2016    0.486593\n",
       "2017    0.449300\n",
       "2018    0.474603\n",
       "Name: ASIAN, dtype: float64"
      ]
     },
     "execution_count": 16,
     "metadata": {},
     "output_type": "execute_result"
    }
   ],
   "source": [
    "epi_df.iloc[:,0]"
   ]
  },
  {
   "cell_type": "markdown",
   "metadata": {},
   "source": [
    "### EPI Graph"
   ]
  },
  {
   "cell_type": "code",
   "execution_count": 17,
   "metadata": {},
   "outputs": [
    {
     "data": {
      "image/png": "[encoded data removed]",
      "text/plain": [
       "<Figure size 432x288 with 1 Axes>"
      ]
     },
     "metadata": {
      "needs_background": "light"
     },
     "output_type": "display_data"
    }
   ],
   "source": [
    "years = epi_df.index\n",
    "\n",
    "axes = plt.axes()\n",
    "axes.set_ylim([.2, 1.5])\n",
    "\n",
    "plt.plot(years, epi_df.iloc[:,0], linestyle=\"dashed\")\n",
    "plt.plot(years, epi_df.iloc[:,1], linestyle=\"dotted\")\n",
    "plt.plot(years, epi_df.iloc[:,2], linestyle=\"dashdot\")\n",
    "plt.plot(years, epi_df.iloc[:,3])\n",
    "columns = [\"Asian\", \"Black\", \"Hispanic\", \"White\"]\n",
    "plt.legend(labels = columns, fontsize=14, bbox_to_anchor=(1, 1))\n",
    "plt.xlabel('Year', fontsize=15)\n",
    "plt.ylabel('EPI', fontsize= 15)\n",
    "plt.xticks(fontsize = 13, rotation =25)\n",
    "plt.yticks(fontsize = 13)\n",
    "name = state+\"_EPI.png\"\n",
    "plt.savefig(name, bbox_inches = 'tight')\n",
    "plt.show()"
   ]
  },
  {
   "cell_type": "markdown",
   "metadata": {},
   "source": [
    "### Parity Graph\n",
    "The epi graph but subtract 1 so that 0 is the baseline/target"
   ]
  },
  {
   "cell_type": "code",
   "execution_count": 18,
   "metadata": {},
   "outputs": [
    {
     "data": {
      "image/png": "[encoded data removed]",
      "text/plain": [
       "<Figure size 432x288 with 1 Axes>"
      ]
     },
     "metadata": {
      "needs_background": "light"
     },
     "output_type": "display_data"
    }
   ],
   "source": [
    "years = parity_diff_df.index\n",
    "\n",
    "axes = plt.axes()\n",
    "\n",
    "plt.plot(years, parity_diff_df.iloc[:,0], linestyle=\"dashed\")\n",
    "plt.plot(years, parity_diff_df.iloc[:,1], linestyle=\"dotted\")\n",
    "plt.plot(years, parity_diff_df.iloc[:,2], linestyle=\"dashdot\")\n",
    "plt.plot(years, parity_diff_df.iloc[:,3])\n",
    "columns = [\"Asian\", \"Black\", \"Hispanic\", \"White\"]\n",
    "plt.legend(labels = columns, fontsize=14, bbox_to_anchor=(1, 1))\n",
    "plt.xlabel('Year', fontsize=15)\n",
    "plt.ylabel('Ratio', fontsize= 15)\n",
    "plt.xticks(fontsize = 13, rotation =25)\n",
    "plt.yticks(fontsize = 13)\n",
    "plt.title('Parity Index by Ethnicity Group')\n",
    "name = state+\"_parity.png\"\n",
    "plt.savefig(name, bbox_inches = 'tight')\n",
    "plt.plot([0,9], [0, 0], '-', lw=1)\n",
    "plt.show()"
   ]
  },
  {
   "cell_type": "markdown",
   "metadata": {},
   "source": [
    "### Professional to Manager Parity Index by Racial Group"
   ]
  },
  {
   "cell_type": "code",
   "execution_count": 19,
   "metadata": {},
   "outputs": [
    {
     "data": {
      "image/png": "[encoded data removed]",
      "text/plain": [
       "<Figure size 432x288 with 1 Axes>"
      ]
     },
     "metadata": {
      "needs_background": "light"
     },
     "output_type": "display_data"
    }
   ],
   "source": [
    "# graph of ethnicity breakdown for asian professionals to asian managers ratio throughout the years\n",
    "years = managers_df.index\n",
    "\n",
    "axes = plt.axes()\n",
    "\n",
    "plt.plot(years, managers_df.iloc[:,0], linestyle=\"dashed\")\n",
    "plt.plot(years, managers_df.iloc[:,1], linestyle=\"dotted\")\n",
    "plt.plot(years, managers_df.iloc[:,2], linestyle=\"dashdot\")\n",
    "plt.plot(years, managers_df.iloc[:,3])\n",
    "columns = [\"Asian\", \"Black\", \"Hispanic\", \"White\"]\n",
    "plt.legend(labels = columns, fontsize=14, bbox_to_anchor=(1, 1))\n",
    "plt.xlabel('Year', fontsize=15)\n",
    "plt.ylabel('Ratio', fontsize= 15)\n",
    "plt.xticks(fontsize = 13, rotation =25)\n",
    "plt.yticks(fontsize = 13)\n",
    "plt.title('Professional to Manager Parity Index by Ethnicity Group')\n",
    "name = state+\"_Managers.png\"\n",
    "plt.savefig(name, bbox_inches = 'tight')\n",
    "plt.show()"
   ]
  },
  {
   "cell_type": "markdown",
   "metadata": {},
   "source": [
    "### Managers to Executive Parity Index by Ethnicity Group"
   ]
  },
  {
   "cell_type": "code",
   "execution_count": 20,
   "metadata": {},
   "outputs": [
    {
     "data": {
      "image/png": "[encoded data removed]",
      "text/plain": [
       "<Figure size 432x288 with 1 Axes>"
      ]
     },
     "metadata": {
      "needs_background": "light"
     },
     "output_type": "display_data"
    }
   ],
   "source": [
    "# graph of ethnicity breakdown for asian managers to asian executives ratio throughout the years\n",
    "years = exec_df.index\n",
    "\n",
    "axes = plt.axes()\n",
    "\n",
    "plt.plot(years, exec_df.iloc[:,0], linestyle=\"dashed\")\n",
    "plt.plot(years, exec_df.iloc[:,1], linestyle=\"dotted\")\n",
    "plt.plot(years, exec_df.iloc[:,2], linestyle=\"dashdot\")\n",
    "plt.plot(years, exec_df.iloc[:,3])\n",
    "columns = [\"Asian\", \"Black\", \"Hispanic\", \"White\"]\n",
    "plt.legend(labels = columns, fontsize=14, bbox_to_anchor=(1, 1))\n",
    "plt.xlabel('Year', fontsize=15)\n",
    "plt.ylabel('Ratio', fontsize= 15)\n",
    "plt.xticks(fontsize = 13, rotation =25)\n",
    "plt.yticks(fontsize = 13)\n",
    "plt.title('Managers to Executive Parity Index by Ethnicity Group')\n",
    "name = state+\"_Executives.png\"\n",
    "plt.savefig(name, bbox_inches = 'tight')\n",
    "plt.show()"
   ]
  },
  {
   "cell_type": "markdown",
   "metadata": {},
   "source": [
    "### Executive Parity Index by Ethnicity Group (Entry Level)\n",
    "- assumption before was professionals were lowest level\n",
    "- assumption here is that all other columns other than managers and execs are grouped in one level"
   ]
  },
  {
   "cell_type": "code",
   "execution_count": 21,
   "metadata": {},
   "outputs": [
    {
     "data": {
      "image/png": "[encoded data removed]",
      "text/plain": [
       "<Figure size 432x288 with 1 Axes>"
      ]
     },
     "metadata": {
      "needs_background": "light"
     },
     "output_type": "display_data"
    }
   ],
   "source": [
    "# graph of ethnicity breakdown for asian professionals to asian managers ratio throughout the years\n",
    "years = epi_ew_df.index\n",
    "\n",
    "axes = plt.axes()\n",
    "\n",
    "plt.plot(years, epi_ew_df.iloc[:,0], linestyle=\"dashed\")\n",
    "plt.plot(years, epi_ew_df.iloc[:,1], linestyle=\"dotted\")\n",
    "plt.plot(years, epi_ew_df.iloc[:,2], linestyle=\"dashdot\")\n",
    "plt.plot(years, epi_ew_df.iloc[:,3])\n",
    "columns = [\"Asian\", \"Black\", \"Hispanic\", \"White\"]\n",
    "plt.legend(labels = columns, fontsize=14, bbox_to_anchor=(1, 1))\n",
    "plt.xlabel('Year', fontsize=15)\n",
    "plt.ylabel('Ratio', fontsize= 15)\n",
    "plt.xticks(fontsize = 13, rotation =25)\n",
    "plt.yticks(fontsize = 13)\n",
    "plt.title('Executive Parity Index by Ethnicity Group (Entry Level)')\n",
    "# won't save\n",
    "# name = state+\"_epi_ew.png\" # ew is for entry workers\n",
    "# plt.savefig(name, bbox_inches = 'tight')\n",
    "plt.show()"
   ]
  },
  {
   "cell_type": "markdown",
   "metadata": {},
   "source": [
    "### Entry Level Ratio by Ethnicity Group (Entry Level)"
   ]
  },
  {
   "cell_type": "code",
   "execution_count": 22,
   "metadata": {},
   "outputs": [
    {
     "data": {
      "image/png": "[encoded data removed]",
      "text/plain": [
       "<Figure size 432x288 with 1 Axes>"
      ]
     },
     "metadata": {
      "needs_background": "light"
     },
     "output_type": "display_data"
    }
   ],
   "source": [
    "# graph of ethnicity breakdown for asian professionals to asian managers ratio throughout the years\n",
    "years = entry_df.index\n",
    "\n",
    "axes = plt.axes()\n",
    "\n",
    "plt.plot(years, entry_df.iloc[:,0], linestyle=\"dashed\")\n",
    "plt.plot(years, entry_df.iloc[:,1], linestyle=\"dotted\")\n",
    "plt.plot(years, entry_df.iloc[:,2], linestyle=\"dashdot\")\n",
    "plt.plot(years, entry_df.iloc[:,3])\n",
    "columns = [\"Asian\", \"Black\", \"Hispanic\", \"White\"]\n",
    "plt.legend(labels = columns, fontsize=14, bbox_to_anchor=(1, 1))\n",
    "plt.xlabel('Year', fontsize=15)\n",
    "plt.ylabel('Ratio', fontsize= 15)\n",
    "plt.xticks(fontsize = 13, rotation =25)\n",
    "plt.yticks(fontsize = 13)\n",
    "plt.title('Entry Level Ratio by Ethnicity Group (Entry Level)')\n",
    "# won't save\n",
    "# name = state+\"_entry.png\" # ew is for entry workers\n",
    "# plt.savefig(name, bbox_inches = 'tight')\n",
    "plt.show()"
   ]
  },
  {
   "cell_type": "markdown",
   "metadata": {},
   "source": [
    "## 4. Data Analysis (Tests for Significance)"
   ]
  },
  {
   "cell_type": "code",
   "execution_count": 23,
   "metadata": {},
   "outputs": [],
   "source": [
    "# Welch's t test (variances not equal, sample size less than 10)\n",
    "import scipy\n",
    "from scipy import stats\n",
    "white_epi = epi_df[\"WHITE\"]\n",
    "asian_epi = epi_df[\"ASIAN\"]\n",
    "hispanic_epi = epi_df[\"HISPANIC\"]\n",
    "black_epi = epi_df[\"BLACK\"]\n",
    "\n",
    "black_test = scipy.stats.ttest_ind(a=black_epi, b=asian_epi, equal_var=False, alternative = 'greater')\n",
    "hispanic_test = scipy.stats.ttest_ind(a=hispanic_epi, b=asian_epi, equal_var=False, alternative = 'greater')\n",
    "white_test = scipy.stats.ttest_ind(a=white_epi, b=asian_epi, equal_var=False, alternative = 'greater')\n",
    "t_statistic = np.array([black_test[0], hispanic_test[0], white_test[0]])\n",
    "p_value = np.array([black_test[1], hispanic_test[1], white_test[1]])\n",
    "t_test_df = pd.DataFrame({'t statistic': t_statistic, 'p value': p_value}, columns=['t statistic', 'p value'], index = [\"Black\", \"Hispanic\", \"White\"])\n",
    "new_name = state + \"_ttest.png\"\n",
    "t_test_df = t_test_df.round(3) # rounding values for visual purposes\n",
    "\n",
    "import dataframe_image as dfi \n",
    "dfi.export(t_test_df, new_name)"
   ]
  },
  {
   "cell_type": "code",
   "execution_count": 24,
   "metadata": {},
   "outputs": [
    {
     "name": "stdout",
     "output_type": "stream",
     "text": [
      "2\n"
     ]
    }
   ],
   "source": [
    "significance_count = sum(t_test_df.iloc[:,1] < .05)\n",
    "print(significance_count)"
   ]
  }
 ],
 "metadata": {
  "kernelspec": {
   "display_name": "Python 3",
   "language": "python",
   "name": "python3"
  },
  "language_info": {
   "codemirror_mode": {
    "name": "ipython",
    "version": 3
   },
   "file_extension": ".py",
   "mimetype": "text/x-python",
   "name": "python",
   "nbconvert_exporter": "python",
   "pygments_lexer": "ipython3",
   "version": "3.8.3"
  }
 },
 "nbformat": 4,
 "nbformat_minor": 4
}
