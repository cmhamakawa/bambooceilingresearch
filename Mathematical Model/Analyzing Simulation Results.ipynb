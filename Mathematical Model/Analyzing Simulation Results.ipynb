{
 "cells": [
  {
   "cell_type": "markdown",
   "metadata": {},
   "source": [
    "# Analyzing Simulation Results"
   ]
  },
  {
   "cell_type": "markdown",
   "metadata": {},
   "source": [
    "## Inputs"
   ]
  },
  {
   "cell_type": "markdown",
   "metadata": {},
   "source": [
    "Which model's results do you want to analyze?\n",
    "\n",
    "1. **No Scarcity** - change model_input to 1\n",
    "2. **Scarcity** - change model_input to 2\n",
    "\n"
   ]
  },
  {
   "cell_type": "code",
   "execution_count": 1,
   "metadata": {},
   "outputs": [],
   "source": [
    "model_input = 2 # this is important"
   ]
  },
  {
   "cell_type": "markdown",
   "metadata": {},
   "source": [
    "Note that:\n",
    "- g1 - group 1\n",
    "\n",
    "- g2 - group 2"
   ]
  },
  {
   "cell_type": "markdown",
   "metadata": {},
   "source": [
    "## 1. Functions to Create Visualizations"
   ]
  },
  {
   "cell_type": "code",
   "execution_count": 2,
   "metadata": {},
   "outputs": [],
   "source": [
    "import pandas as pd\n",
    "import matplotlib.pyplot as plt\n",
    "import numpy as np\n",
    "from IPython.display import display\n",
    "import ast\n",
    "import os\n",
    "import dataframe_image as dfi"
   ]
  },
  {
   "cell_type": "code",
   "execution_count": 3,
   "metadata": {},
   "outputs": [],
   "source": [
    "# set default font sizes for graphing later on - may not be used\n",
    "SMALL_SIZE = 8\n",
    "MEDIUM_SIZE = 10\n",
    "BIGGER_SIZE = 12\n",
    "\n",
    "plt.rc('font', size=SMALL_SIZE)          # controls default text sizes\n",
    "plt.rc('axes', titlesize=SMALL_SIZE)     # fontsize of the axes title\n",
    "plt.rc('axes', labelsize=MEDIUM_SIZE)    # fontsize of the x and y labels\n",
    "plt.rc('xtick', labelsize=SMALL_SIZE)    # fontsize of the tick labels\n",
    "plt.rc('ytick', labelsize=SMALL_SIZE)    # fontsize of the tick labels\n",
    "plt.rc('legend', fontsize=SMALL_SIZE)    # legend fontsize\n",
    "plt.rc('figure', titlesize=BIGGER_SIZE)  # fontsize of the figure title"
   ]
  },
  {
   "cell_type": "code",
   "execution_count": 4,
   "metadata": {},
   "outputs": [
    {
     "name": "stdout",
     "output_type": "stream",
     "text": [
      "/Users/christinehamakawa/Documents/Bamboo Ceiling Research/Mathematical Model\n"
     ]
    }
   ],
   "source": [
    "# RUN ONCE - we use it to reset the path\n",
    "og_path = os.getcwd()\n",
    "print(og_path)"
   ]
  },
  {
   "cell_type": "code",
   "execution_count": 5,
   "metadata": {},
   "outputs": [
    {
     "name": "stdout",
     "output_type": "stream",
     "text": [
      "['a', ' alpha', 'a_alpha', 'beta', 'a_diff_constant_prefilled', 'alpha_diff_constant_prefilled', 'a_alpha_diff_constant_prefilled', 'beta_diff_constant_prefilled', 'a_diff_var_prefilled', 'alpha_diff_var_prefilled', 'a_alpha_diff_var_prefilled', 'beta_diff_var_prefilled']\n"
     ]
    }
   ],
   "source": [
    "# READ parameters inputs\n",
    "os.chdir(og_path)\n",
    "parameter_title = 'parameters'\n",
    "parameter_excel_title = parameter_title + '.xlsx'\n",
    "xls = pd.ExcelFile(parameter_excel_title)\n",
    "sheet_names_og = xls.sheet_names\n",
    "print(sheet_names_og)"
   ]
  },
  {
   "cell_type": "code",
   "execution_count": 6,
   "metadata": {},
   "outputs": [],
   "source": [
    "# Directory names (do not change)\n",
    "sheet_names = [\"L_0\", \"C_1\", \"L_3\", \"Time_Exec\"] # sheet_names of results from model\n",
    "model_analysis_folder = 'model_analysis'\n",
    "simulation_info_folder = \"simulation_results\"\n",
    "graphs = 'graphs'\n",
    "t_comparison = 't_comparison'"
   ]
  },
  {
   "cell_type": "code",
   "execution_count": 7,
   "metadata": {},
   "outputs": [
    {
     "name": "stdout",
     "output_type": "stream",
     "text": [
      "Step 1: changed into model directory\n"
     ]
    },
    {
     "data": {
      "text/plain": [
       "'/Users/christinehamakawa/Documents/Bamboo Ceiling Research/Mathematical Model/Scarcity Model'"
      ]
     },
     "execution_count": 7,
     "metadata": {},
     "output_type": "execute_result"
    }
   ],
   "source": [
    "# cd into correct directory based on model_input and create necessary directory\n",
    "def model_directory(model_input, og_path):\n",
    "    os.chdir(og_path)\n",
    "    if model_input == 1:\n",
    "        model_title = \"No Scarcity Model\"\n",
    "    else:\n",
    "        model_title = \"Scarcity Model\"\n",
    "    os.chdir(model_title)\n",
    "    model_path = os.getcwd()\n",
    "    isExist = os.path.exists(model_analysis_folder)\n",
    "    if not isExist:\n",
    "       # Create a new directory because it does not exist\n",
    "        os.makedirs(model_analysis_folder)\n",
    "        print(\"The new directory is created!\")\n",
    "    print(\"Step 1: changed into model directory\")\n",
    "    return model_path\n",
    "    \n",
    "model_directory(model_input, og_path)"
   ]
  },
  {
   "cell_type": "code",
   "execution_count": 8,
   "metadata": {},
   "outputs": [],
   "source": [
    "def analyze_simulation_results(parameter_sheet_name_index, level, show = False):\n",
    "    current_path = os.getcwd() # we'll return to this later - the current path should be in a specific model directory\n",
    "    df = pd.read_excel(xls, sheet_name=sheet_names_og[parameter_sheet_name_index])\n",
    "    os.chdir(simulation_info_folder)\n",
    "    os.chdir(sheet_names_og[parameter_sheet_name_index])\n",
    "    all_file_names = [i + '.xlsx' for i in df['name_file'].tolist()] # MANUAL INPUT\n",
    "    all_file_names\n",
    "    i = 0\n",
    "    tracker = 0\n",
    "    average_parity_t = np.zeros(len(all_file_names))\n",
    "    percentage_parity_reached = np.zeros(len(all_file_names))\n",
    "    counter = 0\n",
    "    overall_g1_time_avg = np.zeros(len(all_file_names))\n",
    "    overall_g2_time_avg = np.zeros(len(all_file_names))\n",
    "    \n",
    "    for file_name in all_file_names:\n",
    "        test_df = pd.read_excel(file_name, level)\n",
    "        test_df = test_df.iloc[: , 1:]\n",
    "        test_df['mean'] = test_df.mean(axis=1)\n",
    "        \n",
    "        # GET HOW MUCH FASTER G2 THAN G1 REACH EXEC LEVEL\n",
    "        time_df = pd.read_excel(file_name, sheet_names[3])\n",
    "        g1_time_df = time_df[time_df['group'] == 0]\n",
    "        g2_time_df = time_df[time_df['group'] == 1]\n",
    "        overall_g1_time_avg[i] = pd.Series(g1_time_df['time_end'].mean())\n",
    "        overall_g2_time_avg[i] = pd.Series(g2_time_df['time_end'].mean())  \n",
    "        if i == 0:\n",
    "            new_df = test_df['mean']\n",
    "            i+=1\n",
    "        else:\n",
    "            new_df = pd.concat([new_df, test_df['mean']], axis=1)\n",
    "            i+=1\n",
    "        if show:\n",
    "            plt.figure()\n",
    "            plt.plot(test_df)\n",
    "            plt.title(file_name)\n",
    "        \n",
    "        # GET WHERE WE REACH PARITY\n",
    "        t_values = np.zeros(test_df.shape[1])\n",
    "        counter = 0\n",
    "        for j in range(test_df.shape[1]):\n",
    "            reaches_parity = np.where(test_df.iloc[:,j] >= 0.48, True, False)\n",
    "            indices_parity = np.where(reaches_parity == True)\n",
    "            if len(indices_parity[0]) > 0:\n",
    "                t_values[j] = np.min(indices_parity[0])\n",
    "                # may be counting it wrong\n",
    "                counter = counter + 1\n",
    "        average_parity_t[tracker] = np.sum(t_values) / counter\n",
    "        percentage_parity_reached[tracker] = counter / test_df.shape[1]\n",
    "        tracker+=1\n",
    "            \n",
    "        \n",
    "    if show:\n",
    "        plt.show()\n",
    "    \n",
    "    # for graph of simulations\n",
    "    new_df.columns = df['name_file'].tolist()\n",
    "    \n",
    "    # for when we reach parity\n",
    "    average_parity_t = pd.Series(average_parity_t)\n",
    "    percentage_parity_reached = pd.Series(percentage_parity_reached)\n",
    "    parity_reached_df = pd.concat([average_parity_t, percentage_parity_reached], axis=1)\n",
    "    parity_reached_df.columns = ['avg_parity_t', 'Percent_parity_reached']\n",
    "    \n",
    "    overall_g1_time_avg = pd.Series(overall_g1_time_avg)\n",
    "    overall_g2_time_avg = pd.Series(overall_g2_time_avg)\n",
    "    \n",
    "    overall_time_dict = {'g1_time': overall_g1_time_avg, 'g2_time': overall_g2_time_avg}\n",
    "    overall_time_df = pd.DataFrame(overall_time_dict)\n",
    "    \n",
    "    \n",
    "    os.chdir(current_path) # return back to original directory\n",
    "    print(\"Step 2: Finished reading and aggregating simulation info\")\n",
    "    # for tracking how fast it takes to reach exec level\n",
    "    # DIFFERENCE IN ASSERTIVENESS\n",
    "    return new_df, df, parity_reached_df, overall_time_df"
   ]
  },
  {
   "cell_type": "code",
   "execution_count": 9,
   "metadata": {},
   "outputs": [],
   "source": [
    "# PARAMETER DIFFERENCE INDEX\n",
    "# 0: a\n",
    "# 1: alpha\n",
    "# 2: beta\n",
    "# 3: for constant prefilled (don't use)\n",
    "# 4: for vary prefilled (don't use)\n",
    "def graph_simulation_results(new_df, graph_name, parameter_difference_index, show_parity = False, legend_x=1, legend_y=1, font_size = (10,10,10), ylim = (.20,.55)):\n",
    "    nrows = new_df[1].shape[0]\n",
    "    parameter_labels = [\"\"] * nrows\n",
    "    # setting values\n",
    "    if parameter_difference_index == 0:\n",
    "        parameter_df = new_df[1].iloc[:,2:4]\n",
    "        index = 0\n",
    "        parameter = \"a\"\n",
    "    elif parameter_difference_index == 1:\n",
    "        parameter_df = new_df[1].iloc[:,2:4]\n",
    "        index = 1\n",
    "        parameter = \"\\\\alpha\"\n",
    "    elif parameter_difference_index == 2:\n",
    "        parameter_df = new_df[1].iloc[:,4]\n",
    "    else:\n",
    "        parameter_df = new_df[1].iloc[:,8]\n",
    "        \n",
    "    if parameter_difference_index in {0, 1}:\n",
    "        first_string = \"$\\mu_\" + parameter + \"(1)=\"\n",
    "        second_string = \",\\mu_\" + parameter + \"(2)=\"\n",
    "        for i in range(nrows):\n",
    "            first_value = parameter_df.iloc[:,0][i].strip(\"[\").strip(\"]\").split(\",\")[index]\n",
    "            second_value = parameter_df.iloc[:,1][i].strip(\"[\").strip(\"]\").split(\",\")[index]\n",
    "            first_string = r\"$\\mu_\" + parameter + \"(1)=\" + first_value\n",
    "            second_string = \",\\mu_\" + parameter + \"(2)=\" + second_value + \"$\"\n",
    "            parameter_labels[i] = first_string + second_string\n",
    "    elif parameter_difference_index == 2:\n",
    "        for i in range(nrows):\n",
    "            first_string = r\"$\\beta=\"\n",
    "            first_value = str(parameter_df.iloc[i]) + \"$\"\n",
    "            parameter_labels[i] = first_string + first_value\n",
    "    elif parameter_difference_index == 3:\n",
    "        for i in range(nrows):\n",
    "            first_string = r\"Number at $L_n$, $C_n$: \"\n",
    "            temp_value = ast.literal_eval(parameter_df.iloc[i])\n",
    "            first_value = str(temp_value[0][1])\n",
    "            parameter_labels[i] = first_string + first_value\n",
    "    elif parameter_difference_index == 4:\n",
    "        for i in range(nrows):\n",
    "            first_string = r\"Number at $L_1$: \"\n",
    "            temp_value = ast.literal_eval(parameter_df.iloc[i])\n",
    "            first_value = str(temp_value[0][1])\n",
    "            parameter_labels[i] = first_string + first_value\n",
    "        \n",
    "    \n",
    "    parameter_labels_series = pd.Series(parameter_labels)\n",
    "    parity_reached_df = pd.concat([parameter_labels_series,new_df[2]], axis=1)\n",
    "    if show_parity:\n",
    "        display(parity_reached_df)\n",
    "        \n",
    "    plt.figure(10)\n",
    "    # ADDED\n",
    "    num_cols = len(new_df[0].axes[1])\n",
    "    iterations = new_df[0].index\n",
    "    linestyle_tuple = [(0, ()), (0, (1, 1)), (0, (5, 5)), (0, (3, 5, 1, 5)), (5, (10, 3)), (0, (3, 1, 1, 1))]\n",
    "    for i in range(num_cols):\n",
    "        plt.plot(iterations, new_df[0].iloc[:, i], linestyle=linestyle_tuple[i])\n",
    "    # ADDED\n",
    "    plt.legend(labels = parameter_labels,  bbox_to_anchor=(legend_x, legend_y), fontsize = font_size[0])\n",
    "    plt.xlabel(r\"Time $t$\", fontsize = font_size[1])\n",
    "    plt.ylabel('Group-1 Proportion at Top Level', fontsize = font_size[1])\n",
    "    plt.ylim(ylim[0], ylim[1])\n",
    "    plt.xticks(fontsize = font_size[2])\n",
    "    plt.yticks(fontsize = font_size[2])\n",
    "    plt.title(graph_name)\n",
    "    print(\"Step 3: Finished plotting\")"
   ]
  },
  {
   "cell_type": "code",
   "execution_count": 10,
   "metadata": {},
   "outputs": [],
   "source": [
    "# create folders to store information\n",
    "def store_results(model_path, plot_name, df):\n",
    "    os.chdir(model_path) # to ensure we are in the correct model\n",
    "    os.chdir(model_analysis_folder)\n",
    "    current_dir = os.getcwd()\n",
    "    \n",
    "    if os.path.isdir(graphs):\n",
    "        os.chdir(graphs)\n",
    "    else:\n",
    "        os.makedirs(graphs)\n",
    "        os.chdir(graphs)\n",
    "       \n",
    "    plt.savefig(plot_name,  bbox_inches = 'tight')\n",
    "    os.chdir(current_dir) # return to model analysis folder directory\n",
    "    \n",
    "    if os.path.isdir(t_comparison):\n",
    "        os.chdir(t_comparison)\n",
    "    else:\n",
    "        os.makedirs(t_comparison)\n",
    "        os.chdir(t_comparison)\n",
    "        \n",
    "    dfi.export(df, plot_name)\n",
    "    os.chdir(model_path)\n",
    "    print(\"Step 4: Finished storing results and returned to model path directory\")"
   ]
  },
  {
   "cell_type": "markdown",
   "metadata": {},
   "source": [
    "## 2. Visualizations and Saving Information"
   ]
  },
  {
   "cell_type": "code",
   "execution_count": 11,
   "metadata": {},
   "outputs": [
    {
     "name": "stdout",
     "output_type": "stream",
     "text": [
      "['a', ' alpha', 'a_alpha', 'beta', 'a_diff_constant_prefilled', 'alpha_diff_constant_prefilled', 'a_alpha_diff_constant_prefilled', 'beta_diff_constant_prefilled', 'a_diff_var_prefilled', 'alpha_diff_var_prefilled', 'a_alpha_diff_var_prefilled', 'beta_diff_var_prefilled']\n"
     ]
    }
   ],
   "source": [
    "file_names = sheet_names_og\n",
    "print(file_names)"
   ]
  },
  {
   "cell_type": "markdown",
   "metadata": {},
   "source": [
    "# Input\n",
    "Depending on which visualization you want, you need to change the index. Run the code below to know:"
   ]
  },
  {
   "cell_type": "code",
   "execution_count": 12,
   "metadata": {},
   "outputs": [
    {
     "name": "stdout",
     "output_type": "stream",
     "text": [
      "0: a\n",
      "1:  alpha\n",
      "2: a_alpha\n",
      "3: beta\n",
      "4: a_diff_constant_prefilled\n",
      "5: alpha_diff_constant_prefilled\n",
      "6: a_alpha_diff_constant_prefilled\n",
      "7: beta_diff_constant_prefilled\n",
      "8: a_diff_var_prefilled\n",
      "9: alpha_diff_var_prefilled\n",
      "10: a_alpha_diff_var_prefilled\n",
      "11: beta_diff_var_prefilled\n"
     ]
    }
   ],
   "source": [
    "for i in range(len(file_names)):\n",
    "    output = str(i) + \": \" + file_names[i]\n",
    "    print(output)"
   ]
  },
  {
   "cell_type": "markdown",
   "metadata": {},
   "source": [
    "### Change the inputs below"
   ]
  },
  {
   "cell_type": "code",
   "execution_count": 13,
   "metadata": {},
   "outputs": [
    {
     "name": "stdout",
     "output_type": "stream",
     "text": [
      "a\n"
     ]
    }
   ],
   "source": [
    "# IMPORTANT: CHANGE THE INPUT FOR DESIRED VISUALIZATION\n",
    "\n",
    "# 0-11 (shows visualization accordingly)\n",
    "index = 0\n",
    "print(file_names[index])\n",
    "\n",
    "# 0: a\n",
    "# 1: alpha\n",
    "# 2: beta\n",
    "# 3: if title contains constant_prefilled (don't use - used for paper)\n",
    "# 4: if title contains var_prefilled (don't use - used for paper)\n",
    "auto_fill_legend = True # if true, automatically changes the legend according to which parameter we deem fit\n",
    "parameter_type = 1 # manually changes the legend according to which parameter you want\n",
    "\n",
    "\n",
    "# if desired, change change parameter values of plot\n",
    "plot_name = \"\"\n",
    "legend_x = 1 # location of legend\n",
    "legend_y = 1 # location of legend\n",
    "y_lim = (.2, .55) # y limit values\n",
    "# font size is already input"
   ]
  },
  {
   "cell_type": "markdown",
   "metadata": {},
   "source": [
    "### Make a specific visualization"
   ]
  },
  {
   "cell_type": "markdown",
   "metadata": {},
   "source": [
    "This may take a couple minutes to run."
   ]
  },
  {
   "cell_type": "code",
   "execution_count": 14,
   "metadata": {},
   "outputs": [
    {
     "name": "stdout",
     "output_type": "stream",
     "text": [
      "Step 1: changed into model directory\n",
      "Step 2: Finished reading and aggregating simulation info\n",
      "Step 3: Finished plotting\n",
      "Step 4: Finished storing results and returned to model path directory\n"
     ]
    },
    {
     "data": {
      "image/png": "[encoded data removed]",
      "text/plain": [
       "<Figure size 432x288 with 1 Axes>"
      ]
     },
     "metadata": {
      "needs_background": "light"
     },
     "output_type": "display_data"
    }
   ],
   "source": [
    "if auto_fill_legend == True:\n",
    "    if 'var_prefilled' in file_names[index]:\n",
    "        parameter_type = 4\n",
    "    elif 'constant_prefilled' in file_names[index]:\n",
    "        parameter_type = 3\n",
    "    elif 'beta'in file_names[index]:\n",
    "        parameter_type  = 2\n",
    "    elif 'alpha' in file_names[index]:\n",
    "        parameter_type = 1\n",
    "    elif 'a' in file_names[index]:\n",
    "        parameter_type = 0\n",
    "        \n",
    "model_path = model_directory(model_input, og_path)\n",
    "df = analyze_simulation_results(index, sheet_names[2])\n",
    "# graph_simulation_results(df, plot_name, parameter_type) # should one want to use default values\n",
    "graph_simulation_results(df, plot_name, parameter_type, False, legend_x, legend_y, font_size=(14,15,13), ylim = y_lim)\n",
    "final_file_name = file_names[index] + \"_results\"\n",
    "store_results(model_path, final_file_name, df[3])"
   ]
  }
 ],
 "metadata": {
  "kernelspec": {
   "display_name": "Python 3",
   "language": "python",
   "name": "python3"
  },
  "language_info": {
   "codemirror_mode": {
    "name": "ipython",
    "version": 3
   },
   "file_extension": ".py",
   "mimetype": "text/x-python",
   "name": "python",
   "nbconvert_exporter": "python",
   "pygments_lexer": "ipython3",
   "version": "3.8.3"
  }
 },
 "nbformat": 4,
 "nbformat_minor": 4
}
